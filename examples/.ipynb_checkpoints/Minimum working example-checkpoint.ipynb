{
 "cells": [
  {
   "cell_type": "code",
   "execution_count": 1,
   "id": "18df7a74",
   "metadata": {},
   "outputs": [],
   "source": [
    "import numpy as np \n",
    "import PySO\n",
    "import os"
   ]
  },
  {
   "cell_type": "code",
   "execution_count": 2,
   "id": "7ab27e2b",
   "metadata": {},
   "outputs": [],
   "source": [
    "#Simple gaussian to optimize/sample \n",
    "class GaussianModel(PySO.Model):\n",
    "    \"\"\"\n",
    "    A simple 2D Gaussian\n",
    "    \"\"\"\n",
    "    \n",
    "    names    = ['x', 'y'] \n",
    "    bounds   = [[-10,10], [-10,10]]\n",
    "    periodic = [0, 0]\n",
    "\n",
    "    def log_likelihood(self, param):\n",
    "        return -0.5 * ((param['x']-2.5)**2 + (param['y']+1.9)**2) - 0.5 * np.log(2*np.pi)\n"
   ]
  },
  {
   "cell_type": "code",
   "execution_count": 4,
   "id": "b3835bb5",
   "metadata": {},
   "outputs": [
    {
     "name": "stdout",
     "output_type": "stream",
     "text": [
      "Iteration: 1, Max Value: -1.0394773712374386 at [ 2.68307177 -1.44440983], Spread: 121.75236070338661\n",
      "Iteration: 2, Max Value: -0.9590633572232203 at [ 2.78111324 -1.86500006], Spread: 83.07853047097004\n",
      "Iteration: 3, Max Value: -0.9590633572232203 at [ 2.78111324 -1.86500006], Spread: 55.32625666383347\n",
      "Iteration: 4, Max Value: -0.9274348151454104 at [ 2.59099966 -1.80666391], Spread: 34.42611971915118\n",
      "Iteration: 5, Max Value: -0.9274348151454104 at [ 2.59099966 -1.80666391], Spread: 20.40213896067682\n",
      "Iteration: 6, Max Value: -0.9274348151454104 at [ 2.59099966 -1.80666391], Spread: 15.808101249632154\n",
      "Iteration: 7, Max Value: -0.9202965770028844 at [ 2.45768271 -1.93041931], Spread: 11.975183723430256\n",
      "Iteration: 8, Max Value: -0.9202965770028844 at [ 2.45768271 -1.93041931], Spread: 7.543328622535245\n",
      "Iteration: 9, Max Value: -0.9196579955438448 at [ 2.4969138  -1.86219259], Spread: 4.258755361077067\n",
      "Iteration: 10, Max Value: -0.9196579955438448 at [ 2.4969138  -1.86219259], Spread: 2.2195021143081437\n",
      "Iteration: 11, Max Value: -0.9189680830129676 at [ 2.49455316 -1.90542509], Spread: 1.2597115828930074\n",
      "Iteration: 12, Max Value: -0.9189680830129676 at [ 2.49455316 -1.90542509], Spread: 0.7622336059846883\n",
      "Iteration: 13, Max Value: -0.9189680830129676 at [ 2.49455316 -1.90542509], Spread: 1.0378708740056544\n",
      "Iteration: 14, Max Value: -0.9189680830129676 at [ 2.49455316 -1.90542509], Spread: 0.8382411285685321\n",
      "Iteration: 15, Max Value: -0.9189680830129676 at [ 2.49455316 -1.90542509], Spread: 0.6549120403194089\n",
      "Iteration: 16, Max Value: -0.9189680830129676 at [ 2.49455316 -1.90542509], Spread: 0.8148857616890458\n",
      "Iteration: 17, Max Value: -0.9189680830129676 at [ 2.49455316 -1.90542509], Spread: 0.9512769672545929\n",
      "Iteration: 18, Max Value: -0.9189680830129676 at [ 2.49455316 -1.90542509], Spread: 0.8654439426326032\n",
      "Iteration: 19, Max Value: -0.9189680830129676 at [ 2.49455316 -1.90542509], Spread: 0.7994897784910133\n",
      "Iteration: 20, Max Value: -0.9189680830129676 at [ 2.49455316 -1.90542509], Spread: 0.894078850200378\n",
      "Iteration: 21, Max Value: -0.9189680830129676 at [ 2.49455316 -1.90542509], Spread: 0.863922366172483\n",
      "Iteration: 22, Max Value: -0.9189680830129676 at [ 2.49455316 -1.90542509], Spread: 0.7808986359493745\n",
      "Iteration: 23, Max Value: -0.9189680830129676 at [ 2.49455316 -1.90542509], Spread: 0.8985715853656663\n",
      "Iteration: 24, Max Value: -0.9189680830129676 at [ 2.49455316 -1.90542509], Spread: 1.1828054648695447\n",
      "Iteration: 25, Max Value: -0.9189680830129676 at [ 2.49455316 -1.90542509], Spread: 0.7900206963732802\n",
      "Iteration: 26, Max Value: -0.9189680830129676 at [ 2.49455316 -1.90542509], Spread: 0.7434272125246253\n",
      "Iteration: 27, Max Value: -0.9189680830129676 at [ 2.49455316 -1.90542509], Spread: 0.925412926255362\n",
      "Iteration: 28, Max Value: -0.9189680830129676 at [ 2.49455316 -1.90542509], Spread: 0.7614833450417599\n",
      "Iteration: 29, Max Value: -0.9189680830129676 at [ 2.49455316 -1.90542509], Spread: 1.0009993912996809\n",
      "Iteration: 30, Max Value: -0.9189680830129676 at [ 2.49455316 -1.90542509], Spread: 0.8969475335467941\n",
      "Iteration: 31, Max Value: -0.9189680830129676 at [ 2.49455316 -1.90542509], Spread: 0.7274050128647802\n",
      "Iteration: 32, Max Value: -0.9189680830129676 at [ 2.49455316 -1.90542509], Spread: 0.5756088392914464\n",
      "Iteration: 33, Max Value: -0.9189680830129676 at [ 2.49455316 -1.90542509], Spread: 0.8206132520477429\n",
      "Iteration: 34, Max Value: -0.9189680830129676 at [ 2.49455316 -1.90542509], Spread: 0.7855163255577056\n",
      "Iteration: 35, Max Value: -0.9189680830129676 at [ 2.49455316 -1.90542509], Spread: 0.7499585298726911\n",
      "Iteration: 36, Max Value: -0.9189680830129676 at [ 2.49455316 -1.90542509], Spread: 0.826585834091754\n",
      "Iteration: 37, Max Value: -0.9189680830129676 at [ 2.49455316 -1.90542509], Spread: 0.6954323615511215\n",
      "Iteration: 38, Max Value: -0.9189680830129676 at [ 2.49455316 -1.90542509], Spread: 0.7868038116899649\n",
      "Iteration: 39, Max Value: -0.9189680830129676 at [ 2.49455316 -1.90542509], Spread: 0.8208829908353432\n",
      "Iteration: 40, Max Value: -0.9189680830129676 at [ 2.49455316 -1.90542509], Spread: 0.9364413201414524\n",
      "Iteration: 41, Max Value: -0.9189680830129676 at [ 2.49455316 -1.90542509], Spread: 0.7887290625596588\n",
      "Iteration: 42, Max Value: -0.9189680830129676 at [ 2.49455316 -1.90542509], Spread: 1.17937466163055\n",
      "Iteration: 43, Max Value: -0.9189680830129676 at [ 2.49455316 -1.90542509], Spread: 0.9396864448921584\n",
      "Iteration: 44, Max Value: -0.9189680830129676 at [ 2.49455316 -1.90542509], Spread: 0.7309768319807844\n",
      "Iteration: 45, Max Value: -0.9189680830129676 at [ 2.49455316 -1.90542509], Spread: 0.7573552741567233\n",
      "Iteration: 46, Max Value: -0.9189680830129676 at [ 2.49455316 -1.90542509], Spread: 0.5396579609266742\n",
      "Iteration: 47, Max Value: -0.9189680830129676 at [ 2.49455316 -1.90542509], Spread: 0.7228001498744374\n",
      "Iteration: 48, Max Value: -0.9189680830129676 at [ 2.49455316 -1.90542509], Spread: 0.7238721673840501\n",
      "Iteration: 49, Max Value: -0.9189680830129676 at [ 2.49455316 -1.90542509], Spread: 0.7000020575062952\n",
      "Iteration: 50, Max Value: -0.9189496862220203 at [ 2.50107435 -1.90459911], Spread: 0.6729581460241707\n",
      "Iteration: 51, Max Value: -0.9189496862220203 at [ 2.50107435 -1.90459911], Spread: 0.7324375296096802\n",
      "Iteration: 52, Max Value: -0.9189496862220203 at [ 2.50107435 -1.90459911], Spread: 0.9023582426335545\n",
      "Iteration: 53, Max Value: -0.9189496862220203 at [ 2.50107435 -1.90459911], Spread: 0.5781061344884718\n",
      "Saving final results to file MWE_swarm/Results_Summary.txt\n"
     ]
    },
    {
     "data": {
      "text/plain": [
       "<Figure size 432x288 with 0 Axes>"
      ]
     },
     "metadata": {},
     "output_type": "display_data"
    },
    {
     "data": {
      "text/plain": [
       "<Figure size 432x288 with 0 Axes>"
      ]
     },
     "metadata": {},
     "output_type": "display_data"
    },
    {
     "data": {
      "text/plain": [
       "<Figure size 432x288 with 0 Axes>"
      ]
     },
     "metadata": {},
     "output_type": "display_data"
    },
    {
     "data": {
      "text/plain": [
       "<Figure size 432x288 with 0 Axes>"
      ]
     },
     "metadata": {},
     "output_type": "display_data"
    }
   ],
   "source": [
    "\n",
    "mymodel = GaussianModel()\n",
    "\n",
    "NumParticles = 100\n",
    "\n",
    "outdir = 'MWE_swarm/'\n",
    "\n",
    "myswarm = PySO.Swarm(mymodel,\n",
    "                     NumParticles,\n",
    "                     Output = outdir,\n",
    "                     Verbose = True,\n",
    "                     Nperiodiccheckpoint = 1, # Final two args mean evolution is saved at every iteration. Only necessary if running myswarm.Plot()\n",
    "                     Saveevolution = True,    ############\n",
    "                     Maxiter=200,\n",
    "                     Tol = 0.01,\n",
    "                     Automatic_convergence_testing = True,\n",
    "                     Convergence_testing_num_iterations= 50)\n",
    "\n",
    "# Clear any existing history file\n",
    "history_file = os.path.join(outdir, \"SwarmEvolutionHistory.dat\")\n",
    "if os.path.isfile(history_file): os.system('rm {}'.format(history_file))\n",
    "\n",
    "myswarm.Run()\n",
    "\n",
    "myswarm.PlotSwarmEvolution()\n"
   ]
  },
  {
   "cell_type": "code",
   "execution_count": null,
   "id": "8a6ac111",
   "metadata": {},
   "outputs": [],
   "source": []
  },
  {
   "cell_type": "code",
   "execution_count": null,
   "id": "f2d8e72b",
   "metadata": {},
   "outputs": [],
   "source": []
  },
  {
   "cell_type": "code",
   "execution_count": null,
   "id": "bfd4386b-64bc-41df-84c5-0d2dbc999bb9",
   "metadata": {},
   "outputs": [],
   "source": []
  }
 ],
 "metadata": {
  "kernelspec": {
   "display_name": "Python 3 (ipykernel)",
   "language": "python",
   "name": "python3"
  },
  "language_info": {
   "codemirror_mode": {
    "name": "ipython",
    "version": 3
   },
   "file_extension": ".py",
   "mimetype": "text/x-python",
   "name": "python",
   "nbconvert_exporter": "python",
   "pygments_lexer": "ipython3",
   "version": "3.8.10"
  }
 },
 "nbformat": 4,
 "nbformat_minor": 5
}
