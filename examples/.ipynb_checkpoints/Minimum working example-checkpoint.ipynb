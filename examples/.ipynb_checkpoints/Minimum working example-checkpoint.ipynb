{
 "cells": [
  {
   "cell_type": "code",
   "execution_count": 5,
   "id": "18df7a74",
   "metadata": {},
   "outputs": [],
   "source": [
    "import numpy as np \n",
    "import PySO\n",
    "import os"
   ]
  },
  {
   "cell_type": "code",
   "execution_count": 6,
   "id": "7ab27e2b",
   "metadata": {},
   "outputs": [],
   "source": [
    "#Simple gaussian to optimize/sample \n",
    "class GaussianModel(PySO.Model):\n",
    "    \"\"\"\n",
    "    A simple 2D Gaussian\n",
    "    \"\"\"\n",
    "    \n",
    "    names    = ['x', 'y'] \n",
    "    bounds   = [[-10,10], [-10,10]]\n",
    "\n",
    "    def log_likelihood(self, param):\n",
    "        return -0.5 * ((param['x']-2.5)**2 + (param['y']+1.9)**2) - 0.5 * np.log(2*np.pi)\n"
   ]
  },
  {
   "cell_type": "code",
   "execution_count": 7,
   "id": "b3835bb5",
   "metadata": {},
   "outputs": [
    {
     "name": "stdout",
     "output_type": "stream",
     "text": [
      "Iteration: 1, Max Value: -1.2914941703862546 at [ 2.2044919  -1.08895978], Spread: 126.11331770055156\n",
      "Iteration: 2, Max Value: -1.122180413793819 at [ 2.0044919  -1.49880743], Spread: 118.6321300256147\n",
      "Iteration: 3, Max Value: -1.122180413793819 at [ 2.0044919  -1.49880743], Spread: 100.28750792719774\n",
      "Iteration: 4, Max Value: -1.122180413793819 at [ 2.0044919  -1.49880743], Spread: 71.80683593353244\n",
      "Iteration: 5, Max Value: -0.9437869231849287 at [ 2.29187566 -1.9798814 ], Spread: 42.298487109783196\n",
      "Iteration: 6, Max Value: -0.9320029860342274 at [ 2.45743834 -2.05594041], Spread: 24.47176287896439\n",
      "Iteration: 7, Max Value: -0.9234531928430084 at [ 2.42159158 -1.84632096], Spread: 12.878205312401509\n",
      "Iteration: 8, Max Value: -0.9234531928430084 at [ 2.42159158 -1.84632096], Spread: 6.864401648729022\n",
      "Iteration: 9, Max Value: -0.9224122151977674 at [ 2.41744661 -1.88849777], Spread: 5.984082675741392\n",
      "Iteration: 10, Max Value: -0.9224122151977674 at [ 2.41744661 -1.88849777], Spread: 4.002839633396187\n",
      "Iteration: 11, Max Value: -0.9224122151977674 at [ 2.41744661 -1.88849777], Spread: 2.0549394311968205\n",
      "Iteration: 12, Max Value: -0.9213898592690283 at [ 2.54294447 -1.84469698], Spread: 1.8842190771265543\n",
      "Iteration: 13, Max Value: -0.919885143386695 at [ 2.5432992  -1.89571056], Spread: 2.357338428657214\n",
      "Iteration: 14, Max Value: -0.919885143386695 at [ 2.5432992  -1.89571056], Spread: 1.7619094930625359\n",
      "Iteration: 15, Max Value: -0.919885143386695 at [ 2.5432992  -1.89571056], Spread: 1.3839516545047492\n",
      "Iteration: 16, Max Value: -0.919885143386695 at [ 2.5432992  -1.89571056], Spread: 1.2645693781155907\n",
      "Iteration: 17, Max Value: -0.919885143386695 at [ 2.5432992  -1.89571056], Spread: 1.246006336388044\n",
      "Iteration: 18, Max Value: -0.919885143386695 at [ 2.5432992  -1.89571056], Spread: 1.1240178090777915\n",
      "Iteration: 19, Max Value: -0.919885143386695 at [ 2.5432992  -1.89571056], Spread: 0.8425366804778092\n",
      "Iteration: 20, Max Value: -0.919885143386695 at [ 2.5432992  -1.89571056], Spread: 0.8670273002085818\n",
      "Iteration: 21, Max Value: -0.919885143386695 at [ 2.5432992  -1.89571056], Spread: 0.5482390603870994\n",
      "Iteration: 22, Max Value: -0.919885143386695 at [ 2.5432992  -1.89571056], Spread: 0.6665378475423117\n",
      "Iteration: 23, Max Value: -0.919885143386695 at [ 2.5432992  -1.89571056], Spread: 0.7760174261511041\n",
      "Iteration: 24, Max Value: -0.919885143386695 at [ 2.5432992  -1.89571056], Spread: 0.8505663505740402\n",
      "Iteration: 25, Max Value: -0.919885143386695 at [ 2.5432992  -1.89571056], Spread: 0.7107224000344058\n",
      "Iteration: 26, Max Value: -0.919885143386695 at [ 2.5432992  -1.89571056], Spread: 0.7555561923472708\n",
      "Iteration: 27, Max Value: -0.9192172335883961 at [ 2.49862458 -1.87643076], Spread: 1.113472235792271\n",
      "Iteration: 28, Max Value: -0.9192172335883961 at [ 2.49862458 -1.87643076], Spread: 0.8029540560440231\n",
      "Iteration: 29, Max Value: -0.9189668262887479 at [ 2.49269245 -1.89821512], Spread: 0.6058486083990186\n",
      "Iteration: 30, Max Value: -0.9189668262887479 at [ 2.49269245 -1.89821512], Spread: 0.8450647482422199\n",
      "Iteration: 31, Max Value: -0.9189668262887479 at [ 2.49269245 -1.89821512], Spread: 1.1737167925241931\n",
      "Iteration: 32, Max Value: -0.9189668262887479 at [ 2.49269245 -1.89821512], Spread: 1.1561688139263555\n",
      "Iteration: 33, Max Value: -0.9189668262887479 at [ 2.49269245 -1.89821512], Spread: 1.4203911626528225\n",
      "Iteration: 34, Max Value: -0.9189668262887479 at [ 2.49269245 -1.89821512], Spread: 0.9844661884345989\n",
      "Iteration: 35, Max Value: -0.9189668262887479 at [ 2.49269245 -1.89821512], Spread: 0.6529362778379283\n",
      "Iteration: 36, Max Value: -0.9189668262887479 at [ 2.49269245 -1.89821512], Spread: 0.7273093827572721\n",
      "Iteration: 37, Max Value: -0.9189668262887479 at [ 2.49269245 -1.89821512], Spread: 0.9505375947917426\n",
      "Iteration: 38, Max Value: -0.9189668262887479 at [ 2.49269245 -1.89821512], Spread: 0.7485909758412951\n",
      "Iteration: 39, Max Value: -0.9189668262887479 at [ 2.49269245 -1.89821512], Spread: 0.6693994830529216\n",
      "Iteration: 40, Max Value: -0.9189668262887479 at [ 2.49269245 -1.89821512], Spread: 0.5995801161166776\n",
      "Iteration: 41, Max Value: -0.9189668262887479 at [ 2.49269245 -1.89821512], Spread: 0.7330426117813061\n",
      "Iteration: 42, Max Value: -0.9189668262887479 at [ 2.49269245 -1.89821512], Spread: 0.8193506803678916\n",
      "Iteration: 43, Max Value: -0.9189668262887479 at [ 2.49269245 -1.89821512], Spread: 1.1673422665096038\n",
      "Iteration: 44, Max Value: -0.9189668262887479 at [ 2.49269245 -1.89821512], Spread: 0.7752209714473846\n",
      "Iteration: 45, Max Value: -0.9189668262887479 at [ 2.49269245 -1.89821512], Spread: 0.7619391120572238\n",
      "Iteration: 46, Max Value: -0.9189668262887479 at [ 2.49269245 -1.89821512], Spread: 0.7766471559849348\n",
      "Iteration: 47, Max Value: -0.9189668262887479 at [ 2.49269245 -1.89821512], Spread: 0.9920908390495936\n",
      "Iteration: 48, Max Value: -0.9189668262887479 at [ 2.49269245 -1.89821512], Spread: 0.9513773201142307\n",
      "Iteration: 49, Max Value: -0.9189668262887479 at [ 2.49269245 -1.89821512], Spread: 0.7709579507298978\n",
      "Iteration: 50, Max Value: -0.9189668262887479 at [ 2.49269245 -1.89821512], Spread: 0.8541084169240727\n",
      "Iteration: 51, Max Value: -0.9189668262887479 at [ 2.49269245 -1.89821512], Spread: 0.6445210346304446\n",
      "Iteration: 52, Max Value: -0.9189668262887479 at [ 2.49269245 -1.89821512], Spread: 0.9254504971208317\n",
      "Iteration: 53, Max Value: -0.9189668262887479 at [ 2.49269245 -1.89821512], Spread: 0.7300739884792602\n",
      "Iteration: 54, Max Value: -0.9189668262887479 at [ 2.49269245 -1.89821512], Spread: 0.882523968558765\n",
      "Iteration: 55, Max Value: -0.9189668262887479 at [ 2.49269245 -1.89821512], Spread: 0.8058893583357373\n",
      "Iteration: 56, Max Value: -0.9189668262887479 at [ 2.49269245 -1.89821512], Spread: 0.7033167244499581\n",
      "Saving final results to file MWE_swarm/Results_Summary.txt\n"
     ]
    },
    {
     "data": {
      "text/plain": [
       "<Figure size 640x480 with 0 Axes>"
      ]
     },
     "metadata": {},
     "output_type": "display_data"
    },
    {
     "data": {
      "text/plain": [
       "<Figure size 640x480 with 0 Axes>"
      ]
     },
     "metadata": {},
     "output_type": "display_data"
    },
    {
     "data": {
      "text/plain": [
       "<Figure size 640x480 with 0 Axes>"
      ]
     },
     "metadata": {},
     "output_type": "display_data"
    },
    {
     "data": {
      "text/plain": [
       "<Figure size 640x480 with 0 Axes>"
      ]
     },
     "metadata": {},
     "output_type": "display_data"
    }
   ],
   "source": [
    "\n",
    "mymodel = GaussianModel()\n",
    "\n",
    "NumParticles = 100\n",
    "\n",
    "outdir = 'MWE_swarm/'\n",
    "\n",
    "myswarm = PySO.Swarm(mymodel,\n",
    "                     NumParticles,\n",
    "                     Output = outdir,\n",
    "                     Periodic=[0,1],\n",
    "                     Verbose = True,\n",
    "                     Nperiodiccheckpoint = 1, # Final two args mean evolution is saved at every iteration. Only necessary if running myswarm.Plot()\n",
    "                     Saveevolution = True,    ############\n",
    "                     Maxiter=200,\n",
    "                     Tol = 0.01,\n",
    "                     Automatic_convergence_testing = True,\n",
    "                     Convergence_testing_num_iterations= 50)\n",
    "\n",
    "# Clear any existing history file\n",
    "history_file = os.path.join(outdir, \"SwarmEvolutionHistory.dat\")\n",
    "if os.path.isfile(history_file): os.system('rm {}'.format(history_file))\n",
    "\n",
    "myswarm.Run()\n",
    "\n",
    "myswarm.PlotSwarmEvolution()\n"
   ]
  },
  {
   "cell_type": "code",
   "execution_count": null,
   "id": "8a6ac111",
   "metadata": {},
   "outputs": [],
   "source": []
  },
  {
   "cell_type": "code",
   "execution_count": null,
   "id": "f2d8e72b",
   "metadata": {},
   "outputs": [],
   "source": []
  },
  {
   "cell_type": "code",
   "execution_count": null,
   "id": "bfd4386b-64bc-41df-84c5-0d2dbc999bb9",
   "metadata": {},
   "outputs": [],
   "source": []
  }
 ],
 "metadata": {
  "kernelspec": {
   "display_name": "Python 3 (ipykernel)",
   "language": "python",
   "name": "python3"
  },
  "language_info": {
   "codemirror_mode": {
    "name": "ipython",
    "version": 3
   },
   "file_extension": ".py",
   "mimetype": "text/x-python",
   "name": "python",
   "nbconvert_exporter": "python",
   "pygments_lexer": "ipython3",
   "version": "3.9.16"
  }
 },
 "nbformat": 4,
 "nbformat_minor": 5
}
