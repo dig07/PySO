{
 "cells": [
  {
   "cell_type": "code",
   "execution_count": 1,
   "id": "18df7a74",
   "metadata": {
    "ExecuteTime": {
     "end_time": "2024-02-27T12:43:07.957390676Z",
     "start_time": "2024-02-27T12:43:05.928593829Z"
    }
   },
   "outputs": [],
   "source": [
    "import numpy as np \n",
    "import PySO\n",
    "import os"
   ]
  },
  {
   "cell_type": "code",
   "execution_count": 2,
   "id": "7ab27e2b",
   "metadata": {
    "ExecuteTime": {
     "end_time": "2024-02-27T12:43:07.997493274Z",
     "start_time": "2024-02-27T12:43:07.994680137Z"
    }
   },
   "outputs": [],
   "source": [
    "#Simple gaussian to optimize/sample \n",
    "class GaussianModel(PySO.Model):\n",
    "    \"\"\"\n",
    "    A simple 2D Gaussian\n",
    "    \"\"\"\n",
    "    \n",
    "    names    = ['x', 'y'] \n",
    "    bounds   = [[-10,10], [-10,10]]\n",
    "\n",
    "    def log_likelihood(self, param):\n",
    "        return -0.5 * ((param['x']-2.5)**2 + (param['y']+1.9)**2) - 0.5 * np.log(2*np.pi)\n"
   ]
  },
  {
   "cell_type": "code",
   "execution_count": 4,
   "id": "b3835bb5",
   "metadata": {
    "ExecuteTime": {
     "end_time": "2024-02-27T12:43:11.505649121Z",
     "start_time": "2024-02-27T12:43:07.995715560Z"
    }
   },
   "outputs": [
    {
     "name": "stdout",
     "output_type": "stream",
     "text": [
      "Iteration: 1, Max Value: -0.9982402727335696 at [ 2.65823604 -1.53453477], Spread: 144.5258588794861\n",
      "Iteration: 2, Max Value: -0.9536566854415752 at [ 2.32067604 -1.70692172], Spread: 104.94069755577749\n",
      "Iteration: 3, Max Value: -0.9536566854415752 at [ 2.32067604 -1.70692172], Spread: 76.7186874545004\n",
      "Iteration: 4, Max Value: -0.9536566854415752 at [ 2.32067604 -1.70692172], Spread: 57.684919857481525\n",
      "Iteration: 5, Max Value: -0.9536566854415752 at [ 2.32067604 -1.70692172], Spread: 41.97858571263908\n",
      "Iteration: 6, Max Value: -0.9190118050529459 at [ 2.48827257 -1.89699815], Spread: 27.320314173830738\n",
      "Iteration: 7, Max Value: -0.9190118050529459 at [ 2.48827257 -1.89699815], Spread: 19.714153469656612\n",
      "Iteration: 8, Max Value: -0.9190118050529459 at [ 2.48827257 -1.89699815], Spread: 16.88917541854701\n",
      "Iteration: 9, Max Value: -0.9190118050529459 at [ 2.48827257 -1.89699815], Spread: 10.714027751243563\n",
      "Iteration: 10, Max Value: -0.9190118050529459 at [ 2.48827257 -1.89699815], Spread: 7.469155083327865\n",
      "Iteration: 11, Max Value: -0.9190118050529459 at [ 2.48827257 -1.89699815], Spread: 5.450591895989444\n",
      "Iteration: 12, Max Value: -0.9190118050529459 at [ 2.48827257 -1.89699815], Spread: 2.8564589699830036\n",
      "Iteration: 13, Max Value: -0.9190118050529459 at [ 2.48827257 -1.89699815], Spread: 1.3213427532411042\n",
      "Iteration: 14, Max Value: -0.9190118050529459 at [ 2.48827257 -1.89699815], Spread: 1.0381541398281318\n",
      "Iteration: 15, Max Value: -0.9190118050529459 at [ 2.48827257 -1.89699815], Spread: 0.859849241766768\n",
      "Iteration: 16, Max Value: -0.9190118050529459 at [ 2.48827257 -1.89699815], Spread: 0.973001841989212\n",
      "Iteration: 17, Max Value: -0.9190118050529459 at [ 2.48827257 -1.89699815], Spread: 1.127894321888736\n",
      "Iteration: 18, Max Value: -0.9190118050529459 at [ 2.48827257 -1.89699815], Spread: 0.7867022022027925\n",
      "Iteration: 19, Max Value: -0.9190118050529459 at [ 2.48827257 -1.89699815], Spread: 1.1170995563105846\n",
      "Iteration: 20, Max Value: -0.9190118050529459 at [ 2.48827257 -1.89699815], Spread: 0.7360474775446201\n",
      "Iteration: 21, Max Value: -0.9190118050529459 at [ 2.48827257 -1.89699815], Spread: 0.5605246987625893\n",
      "Iteration: 22, Max Value: -0.9190118050529459 at [ 2.48827257 -1.89699815], Spread: 0.6508669701361466\n",
      "Iteration: 23, Max Value: -0.9190118050529459 at [ 2.48827257 -1.89699815], Spread: 0.7828390191899097\n",
      "Iteration: 24, Max Value: -0.9190118050529459 at [ 2.48827257 -1.89699815], Spread: 1.101541031226521\n",
      "Iteration: 25, Max Value: -0.9190118050529459 at [ 2.48827257 -1.89699815], Spread: 1.0853748048404128\n",
      "Iteration: 26, Max Value: -0.9190118050529459 at [ 2.48827257 -1.89699815], Spread: 1.3381493693082525\n",
      "Iteration: 27, Max Value: -0.9190118050529459 at [ 2.48827257 -1.89699815], Spread: 0.8282046116342521\n",
      "Iteration: 28, Max Value: -0.9190118050529459 at [ 2.48827257 -1.89699815], Spread: 0.8254388617701003\n",
      "Iteration: 29, Max Value: -0.9190118050529459 at [ 2.48827257 -1.89699815], Spread: 0.7091739921704922\n",
      "Iteration: 30, Max Value: -0.9190118050529459 at [ 2.48827257 -1.89699815], Spread: 0.5074744387938117\n",
      "Iteration: 31, Max Value: -0.9190118050529459 at [ 2.48827257 -1.89699815], Spread: 0.7175743462507715\n",
      "Iteration: 32, Max Value: -0.9190118050529459 at [ 2.48827257 -1.89699815], Spread: 1.0445744817055578\n",
      "Iteration: 33, Max Value: -0.9190118050529459 at [ 2.48827257 -1.89699815], Spread: 0.9180642751312807\n",
      "Iteration: 34, Max Value: -0.9190118050529459 at [ 2.48827257 -1.89699815], Spread: 0.7772106982821568\n",
      "Iteration: 35, Max Value: -0.9190118050529459 at [ 2.48827257 -1.89699815], Spread: 0.9723503633366433\n",
      "Iteration: 36, Max Value: -0.9190118050529459 at [ 2.48827257 -1.89699815], Spread: 0.8905919261966155\n",
      "Iteration: 37, Max Value: -0.9190118050529459 at [ 2.48827257 -1.89699815], Spread: 0.6120082478457115\n",
      "Iteration: 38, Max Value: -0.9190118050529459 at [ 2.48827257 -1.89699815], Spread: 0.7051451292359184\n",
      "Iteration: 39, Max Value: -0.9190118050529459 at [ 2.48827257 -1.89699815], Spread: 0.7842794782835304\n",
      "Iteration: 40, Max Value: -0.9190118050529459 at [ 2.48827257 -1.89699815], Spread: 0.7806496492452448\n",
      "Iteration: 41, Max Value: -0.9190118050529459 at [ 2.48827257 -1.89699815], Spread: 0.6367076647579082\n",
      "Iteration: 42, Max Value: -0.9190118050529459 at [ 2.48827257 -1.89699815], Spread: 0.6293371165654751\n",
      "Iteration: 43, Max Value: -0.9190118050529459 at [ 2.48827257 -1.89699815], Spread: 0.9832599147839175\n",
      "Iteration: 44, Max Value: -0.9190118050529459 at [ 2.48827257 -1.89699815], Spread: 1.0012199174493985\n",
      "Iteration: 45, Max Value: -0.9190118050529459 at [ 2.48827257 -1.89699815], Spread: 0.8827338241205276\n",
      "Iteration: 46, Max Value: -0.9190118050529459 at [ 2.48827257 -1.89699815], Spread: 0.8905681529789303\n",
      "Iteration: 47, Max Value: -0.9190118050529459 at [ 2.48827257 -1.89699815], Spread: 0.7586185900150523\n",
      "Iteration: 48, Max Value: -0.9190118050529459 at [ 2.48827257 -1.89699815], Spread: 0.7296368880366053\n",
      "Iteration: 49, Max Value: -0.9190118050529459 at [ 2.48827257 -1.89699815], Spread: 1.0792134676311163\n",
      "Iteration: 50, Max Value: -0.9190118050529459 at [ 2.48827257 -1.89699815], Spread: 0.7927230360747103\n",
      "Iteration: 51, Max Value: -0.9190118050529459 at [ 2.48827257 -1.89699815], Spread: 0.9240007782431013\n",
      "Iteration: 52, Max Value: -0.9190118050529459 at [ 2.48827257 -1.89699815], Spread: 1.0481164803714478\n",
      "Iteration: 53, Max Value: -0.9190118050529459 at [ 2.48827257 -1.89699815], Spread: 1.2014993374432628\n",
      "Iteration: 54, Max Value: -0.9190118050529459 at [ 2.48827257 -1.89699815], Spread: 0.8210552116719839\n",
      "Iteration: 55, Max Value: -0.9190118050529459 at [ 2.48827257 -1.89699815], Spread: 0.7236213244637552\n"
     ]
    },
    {
     "ename": "AttributeError",
     "evalue": "'Swarm' object has no attribute 'PlotSwarmEvolution'",
     "output_type": "error",
     "traceback": [
      "\u001b[0;31m---------------------------------------------------------------------------\u001b[0m",
      "\u001b[0;31mAttributeError\u001b[0m                            Traceback (most recent call last)",
      "Cell \u001b[0;32mIn[4], line 24\u001b[0m\n\u001b[1;32m     21\u001b[0m history_file \u001b[38;5;241m=\u001b[39m os\u001b[38;5;241m.\u001b[39mpath\u001b[38;5;241m.\u001b[39mjoin(outdir, \u001b[38;5;124m\"\u001b[39m\u001b[38;5;124mSwarmEvolutionHistory.dat\u001b[39m\u001b[38;5;124m\"\u001b[39m)\n\u001b[1;32m     22\u001b[0m \u001b[38;5;28;01mif\u001b[39;00m os\u001b[38;5;241m.\u001b[39mpath\u001b[38;5;241m.\u001b[39misfile(history_file): os\u001b[38;5;241m.\u001b[39msystem(\u001b[38;5;124m'\u001b[39m\u001b[38;5;124mrm \u001b[39m\u001b[38;5;132;01m{}\u001b[39;00m\u001b[38;5;124m'\u001b[39m\u001b[38;5;241m.\u001b[39mformat(history_file))\n\u001b[0;32m---> 24\u001b[0m \u001b[43mmyswarm\u001b[49m\u001b[38;5;241;43m.\u001b[39;49m\u001b[43mRun\u001b[49m\u001b[43m(\u001b[49m\u001b[43m)\u001b[49m\n\u001b[1;32m     26\u001b[0m \u001b[38;5;66;03m# myswarm.PlotSwarmEvolution()\u001b[39;00m\n",
      "File \u001b[0;32m~/Desktop/PySO/PySO/MWE_Swarm.py:738\u001b[0m, in \u001b[0;36mSwarm.Run\u001b[0;34m(self, segmenting)\u001b[0m\n\u001b[1;32m    734\u001b[0m         \u001b[38;5;28;01mif\u001b[39;00m \u001b[38;5;28mself\u001b[39m\u001b[38;5;241m.\u001b[39mSaveEvolution: \u001b[38;5;28mself\u001b[39m\u001b[38;5;241m.\u001b[39mSaveSwarmEvolution()\n\u001b[1;32m    736\u001b[0m \u001b[38;5;28mself\u001b[39m\u001b[38;5;241m.\u001b[39mSaveFinalResults\n\u001b[0;32m--> 738\u001b[0m \u001b[38;5;28;01mif\u001b[39;00m \u001b[38;5;28mself\u001b[39m\u001b[38;5;241m.\u001b[39mPlotevolution : \u001b[38;5;28;43mself\u001b[39;49m\u001b[38;5;241;43m.\u001b[39;49m\u001b[43mPlotSwarmEvolution\u001b[49m()\n",
      "\u001b[0;31mAttributeError\u001b[0m: 'Swarm' object has no attribute 'PlotSwarmEvolution'"
     ]
    }
   ],
   "source": [
    "\n",
    "mymodel = GaussianModel()\n",
    "\n",
    "NumParticles = 100\n",
    "\n",
    "outdir = 'MWE_swarm/'\n",
    "\n",
    "myswarm = PySO.Swarm(mymodel,\n",
    "                     NumParticles,\n",
    "                     Output = outdir,\n",
    "                     Periodic=[0,1],\n",
    "                     Verbose = True,\n",
    "                     Nperiodiccheckpoint = 1, #  evolution is saved at every iteration. Only necessary if running myswarm.Plot()\n",
    "                     Saveevolution = True,    ############\n",
    "                     Plotevolution = True, # Evolution is plotted in pair and function plots\n",
    "                     Maxiter=200,\n",
    "                     Tol = 0.01,\n",
    "                     Automatic_convergence_testing = True,\n",
    "                     Convergence_testing_num_iterations= 50)\n",
    "\n",
    "# Clear any existing history file\n",
    "history_file = os.path.join(outdir, \"SwarmEvolutionHistory.dat\")\n",
    "if os.path.isfile(history_file): os.system('rm {}'.format(history_file))\n",
    "\n",
    "myswarm.Run()\n",
    "\n",
    "# myswarm.PlotSwarmEvolution()\n"
   ]
  },
  {
   "cell_type": "code",
   "execution_count": null,
   "id": "8a6ac111",
   "metadata": {},
   "outputs": [],
   "source": []
  },
  {
   "cell_type": "code",
   "execution_count": null,
   "id": "f2d8e72b",
   "metadata": {},
   "outputs": [],
   "source": []
  },
  {
   "cell_type": "code",
   "execution_count": null,
   "id": "bfd4386b-64bc-41df-84c5-0d2dbc999bb9",
   "metadata": {},
   "outputs": [],
   "source": []
  }
 ],
 "metadata": {
  "kernelspec": {
   "display_name": "Python 3 (ipykernel)",
   "language": "python",
   "name": "python3"
  },
  "language_info": {
   "codemirror_mode": {
    "name": "ipython",
    "version": 3
   },
   "file_extension": ".py",
   "mimetype": "text/x-python",
   "name": "python",
   "nbconvert_exporter": "python",
   "pygments_lexer": "ipython3",
   "version": "3.8.10"
  }
 },
 "nbformat": 4,
 "nbformat_minor": 5
}
