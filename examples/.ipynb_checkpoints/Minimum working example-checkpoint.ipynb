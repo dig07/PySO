{
 "cells": [
  {
   "cell_type": "code",
   "execution_count": 1,
   "id": "18df7a74",
   "metadata": {},
   "outputs": [],
   "source": [
    "import numpy as np \n",
    "import PySO\n",
    "import os"
   ]
  },
  {
   "cell_type": "code",
   "execution_count": 2,
   "id": "7ab27e2b",
   "metadata": {},
   "outputs": [],
   "source": [
    "#Simple gaussian to optimize/sample \n",
    "class GaussianModel(PySO.Model):\n",
    "    \"\"\"\n",
    "    A simple 2D Gaussian\n",
    "    \"\"\"\n",
    "    \n",
    "    names    = ['x', 'y'] \n",
    "    bounds   = [[-10,10], [-10,10]]\n",
    "\n",
    "    def log_likelihood(self, param):\n",
    "        return -0.5 * ((param['x']-2.5)**2 + (param['y']+1.9)**2) - 0.5 * np.log(2*np.pi)\n"
   ]
  },
  {
   "cell_type": "code",
   "execution_count": 4,
   "id": "b3835bb5",
   "metadata": {},
   "outputs": [
    {
     "name": "stdout",
     "output_type": "stream",
     "text": [
      "Iteration: 1, Max Value: -1.0074155207951438 at [ 2.15596143 -1.65794332], Spread: 117.3037718804879\n",
      "Iteration: 2, Max Value: -0.954759916427463 at [ 2.29992593 -2.07780083], Spread: 92.9014994775438\n",
      "Iteration: 3, Max Value: -0.9230544115387405 at [ 2.44048884 -1.96848488], Spread: 67.61911349361633\n",
      "Iteration: 4, Max Value: -0.9230544115387405 at [ 2.44048884 -1.96848488], Spread: 47.374308309350454\n",
      "Iteration: 5, Max Value: -0.9230544115387405 at [ 2.44048884 -1.96848488], Spread: 36.796707135060075\n",
      "Iteration: 6, Max Value: -0.9230544115387405 at [ 2.44048884 -1.96848488], Spread: 25.633917518392572\n",
      "Iteration: 7, Max Value: -0.9230544115387405 at [ 2.44048884 -1.96848488], Spread: 14.94920255081323\n",
      "Iteration: 8, Max Value: -0.9230544115387405 at [ 2.44048884 -1.96848488], Spread: 7.816185188678993\n",
      "Iteration: 9, Max Value: -0.9189691377270622 at [ 2.49333533 -1.90409771], Spread: 4.5090700433944875\n",
      "Iteration: 10, Max Value: -0.9189691377270622 at [ 2.49333533 -1.90409771], Spread: 2.711188594535489\n",
      "Iteration: 11, Max Value: -0.9189691377270622 at [ 2.49333533 -1.90409771], Spread: 1.8628514824934301\n",
      "Iteration: 12, Max Value: -0.9189691377270622 at [ 2.49333533 -1.90409771], Spread: 1.3637114539525965\n",
      "Iteration: 13, Max Value: -0.9189691377270622 at [ 2.49333533 -1.90409771], Spread: 0.9941153619112783\n",
      "Iteration: 14, Max Value: -0.9189691377270622 at [ 2.49333533 -1.90409771], Spread: 0.9609627737419117\n",
      "Iteration: 15, Max Value: -0.9189691377270622 at [ 2.49333533 -1.90409771], Spread: 1.2542405260542173\n",
      "Iteration: 16, Max Value: -0.9189691377270622 at [ 2.49333533 -1.90409771], Spread: 0.9822461179626988\n",
      "Iteration: 17, Max Value: -0.9189691377270622 at [ 2.49333533 -1.90409771], Spread: 0.8724653718366442\n",
      "Iteration: 18, Max Value: -0.9189691377270622 at [ 2.49333533 -1.90409771], Spread: 0.8571750407573795\n",
      "Iteration: 19, Max Value: -0.9189691377270622 at [ 2.49333533 -1.90409771], Spread: 0.6560016293283315\n",
      "Iteration: 20, Max Value: -0.9189691377270622 at [ 2.49333533 -1.90409771], Spread: 0.7009527771883628\n",
      "Iteration: 21, Max Value: -0.9189691377270622 at [ 2.49333533 -1.90409771], Spread: 0.6480520135590508\n",
      "Iteration: 22, Max Value: -0.9189691377270622 at [ 2.49333533 -1.90409771], Spread: 0.906685556270478\n",
      "Iteration: 23, Max Value: -0.9189691377270622 at [ 2.49333533 -1.90409771], Spread: 1.030088956276019\n",
      "Iteration: 24, Max Value: -0.9189691377270622 at [ 2.49333533 -1.90409771], Spread: 1.3752134043638817\n",
      "Iteration: 25, Max Value: -0.9189691377270622 at [ 2.49333533 -1.90409771], Spread: 1.146934451255102\n",
      "Iteration: 26, Max Value: -0.9189691377270622 at [ 2.49333533 -1.90409771], Spread: 0.9085821605384085\n",
      "Iteration: 27, Max Value: -0.9189691377270622 at [ 2.49333533 -1.90409771], Spread: 0.6810056436229573\n",
      "Iteration: 28, Max Value: -0.9189691377270622 at [ 2.49333533 -1.90409771], Spread: 0.5948650397101345\n",
      "Iteration: 29, Max Value: -0.9189691377270622 at [ 2.49333533 -1.90409771], Spread: 0.6549152144660435\n",
      "Iteration: 30, Max Value: -0.9189691377270622 at [ 2.49333533 -1.90409771], Spread: 0.5877723837147582\n",
      "Iteration: 31, Max Value: -0.9189691377270622 at [ 2.49333533 -1.90409771], Spread: 0.6394754181354793\n",
      "Iteration: 32, Max Value: -0.9189691377270622 at [ 2.49333533 -1.90409771], Spread: 0.7603679188365656\n",
      "Iteration: 33, Max Value: -0.9189691377270622 at [ 2.49333533 -1.90409771], Spread: 0.9757909332051212\n",
      "Iteration: 34, Max Value: -0.9189691377270622 at [ 2.49333533 -1.90409771], Spread: 1.284369704556998\n",
      "Iteration: 35, Max Value: -0.9189691377270622 at [ 2.49333533 -1.90409771], Spread: 0.8133476252595244\n",
      "Iteration: 36, Max Value: -0.9189691377270622 at [ 2.49333533 -1.90409771], Spread: 1.1861737134959465\n",
      "Iteration: 37, Max Value: -0.9189691377270622 at [ 2.49333533 -1.90409771], Spread: 1.0866299100685954\n",
      "Iteration: 38, Max Value: -0.9189691377270622 at [ 2.49333533 -1.90409771], Spread: 0.6761084705638883\n",
      "Iteration: 39, Max Value: -0.9189691377270622 at [ 2.49333533 -1.90409771], Spread: 0.8057683034214213\n",
      "Iteration: 40, Max Value: -0.9189691377270622 at [ 2.49333533 -1.90409771], Spread: 0.8451813837498745\n",
      "Iteration: 41, Max Value: -0.9189691377270622 at [ 2.49333533 -1.90409771], Spread: 0.780276841353688\n",
      "Iteration: 42, Max Value: -0.9189691377270622 at [ 2.49333533 -1.90409771], Spread: 0.8663412681186349\n",
      "Iteration: 43, Max Value: -0.9189691377270622 at [ 2.49333533 -1.90409771], Spread: 0.8176085751208041\n",
      "Iteration: 44, Max Value: -0.9189691377270622 at [ 2.49333533 -1.90409771], Spread: 0.9320271696235911\n",
      "Iteration: 45, Max Value: -0.9189691377270622 at [ 2.49333533 -1.90409771], Spread: 0.7293537647891732\n",
      "Iteration: 46, Max Value: -0.9189691377270622 at [ 2.49333533 -1.90409771], Spread: 1.1120874354119095\n",
      "Iteration: 47, Max Value: -0.9189691377270622 at [ 2.49333533 -1.90409771], Spread: 0.8784478966207603\n",
      "Iteration: 48, Max Value: -0.9189691377270622 at [ 2.49333533 -1.90409771], Spread: 0.7911586982096843\n",
      "Iteration: 49, Max Value: -0.9189691377270622 at [ 2.49333533 -1.90409771], Spread: 0.836282807258668\n",
      "Iteration: 50, Max Value: -0.9189691377270622 at [ 2.49333533 -1.90409771], Spread: 0.7952467519822994\n",
      "Iteration: 51, Max Value: -0.9189691377270622 at [ 2.49333533 -1.90409771], Spread: 0.6764966156842657\n",
      "Iteration: 52, Max Value: -0.9189691377270622 at [ 2.49333533 -1.90409771], Spread: 0.5437824554339091\n",
      "Saving final results to file MWE_swarm/Results_Summary.txt\n"
     ]
    },
    {
     "data": {
      "text/plain": [
       "<Figure size 640x480 with 0 Axes>"
      ]
     },
     "metadata": {},
     "output_type": "display_data"
    },
    {
     "data": {
      "text/plain": [
       "<Figure size 640x480 with 0 Axes>"
      ]
     },
     "metadata": {},
     "output_type": "display_data"
    },
    {
     "data": {
      "text/plain": [
       "<Figure size 640x480 with 0 Axes>"
      ]
     },
     "metadata": {},
     "output_type": "display_data"
    },
    {
     "data": {
      "text/plain": [
       "<Figure size 640x480 with 0 Axes>"
      ]
     },
     "metadata": {},
     "output_type": "display_data"
    }
   ],
   "source": [
    "\n",
    "mymodel = GaussianModel()\n",
    "\n",
    "NumParticles = 100\n",
    "\n",
    "outdir = 'MWE_swarm/'\n",
    "\n",
    "myswarm = PySO.Swarm(mymodel,\n",
    "                     NumParticles,\n",
    "                     Output = outdir,\n",
    "                     Periodic=[0,1],\n",
    "                     Verbose = True,\n",
    "                     Nperiodiccheckpoint = 1, # Final two args mean evolution is saved at every iteration. Only necessary if running myswarm.Plot()\n",
    "                     Saveevolution = True,    ############\n",
    "                     Maxiter=200,\n",
    "                     Tol = 0.01,\n",
    "                     Automatic_convergence_testing = True,\n",
    "                     Convergence_testing_num_iterations= 50)\n",
    "\n",
    "# Clear any existing history file\n",
    "history_file = os.path.join(outdir, \"SwarmEvolutionHistory.dat\")\n",
    "if os.path.isfile(history_file): os.system('rm {}'.format(history_file))\n",
    "\n",
    "myswarm.Run()\n",
    "\n",
    "myswarm.PlotSwarmEvolution()\n"
   ]
  },
  {
   "cell_type": "code",
   "execution_count": null,
   "id": "8a6ac111",
   "metadata": {},
   "outputs": [],
   "source": []
  },
  {
   "cell_type": "code",
   "execution_count": null,
   "id": "f2d8e72b",
   "metadata": {},
   "outputs": [],
   "source": []
  },
  {
   "cell_type": "code",
   "execution_count": null,
   "id": "bfd4386b-64bc-41df-84c5-0d2dbc999bb9",
   "metadata": {},
   "outputs": [],
   "source": []
  }
 ],
 "metadata": {
  "kernelspec": {
   "display_name": "Python 3 (ipykernel)",
   "language": "python",
   "name": "python3"
  },
  "language_info": {
   "codemirror_mode": {
    "name": "ipython",
    "version": 3
   },
   "file_extension": ".py",
   "mimetype": "text/x-python",
   "name": "python",
   "nbconvert_exporter": "python",
   "pygments_lexer": "ipython3",
   "version": "3.9.16"
  }
 },
 "nbformat": 4,
 "nbformat_minor": 5
}
