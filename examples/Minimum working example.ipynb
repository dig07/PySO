{
 "cells": [
  {
   "cell_type": "code",
   "execution_count": 1,
   "id": "18df7a74",
   "metadata": {
    "ExecuteTime": {
     "end_time": "2024-02-27T12:43:07.957390676Z",
     "start_time": "2024-02-27T12:43:05.928593829Z"
    }
   },
   "outputs": [
    {
     "name": "stdout",
     "output_type": "stream",
     "text": [
      "Defaulting to torch.multiprocessing\n",
      "Defaulting to torch.multiprocessing\n"
     ]
    }
   ],
   "source": [
    "import numpy as np \n",
    "import PySO\n",
    "import os\n",
    "\n",
    "from Models import GaussianModel"
   ]
  },
  {
   "cell_type": "code",
   "execution_count": 2,
   "id": "7ab27e2b",
   "metadata": {
    "ExecuteTime": {
     "end_time": "2024-02-27T12:43:07.997493274Z",
     "start_time": "2024-02-27T12:43:07.994680137Z"
    }
   },
   "outputs": [],
   "source": [
    "# #Simple gaussian to optimize/sample (The import is because of a bodge due to how jupyter+multiprocessing works)\n",
    "class GaussianModel_duplicate(PySO.Model):\n",
    "    \"\"\"\n",
    "    A simple 2D Gaussian\n",
    "    \"\"\"\n",
    "    \n",
    "    names    = ['x', 'y'] \n",
    "    bounds   = [[-10,10], [-10,10]]\n",
    "\n",
    "    def log_likelihood(self, param):\n",
    "        return -0.5 * ((param['x']-2.5)**2 + (param['y']+1.9)**2) - 0.5 * np.log(2*np.pi)\n"
   ]
  },
  {
   "cell_type": "code",
   "execution_count": 18,
   "id": "b3835bb5",
   "metadata": {
    "ExecuteTime": {
     "end_time": "2024-02-27T12:43:11.505649121Z",
     "start_time": "2024-02-27T12:43:07.995715560Z"
    }
   },
   "outputs": [
    {
     "name": "stdout",
     "output_type": "stream",
     "text": [
      "Iteration: 1, Max Value: -26.943465548691595 at [-4.69048662 -2.48818044], Spread: 36.54375165294992\n",
      "Iteration: 2, Max Value: -25.391473210783122 at [-4.49026271 -2.18512552], Spread: 27.806834307633377\n",
      "Iteration: 3, Max Value: -15.37089929408344 at [-2.59671608 -0.18903341], Spread: 23.008944873399546\n",
      "Iteration: 4, Max Value: -12.272917936248165 at [-2.06702579 -0.53976683], Spread: 9.767631865745875\n",
      "Iteration: 5, Max Value: -7.908012483770166 at [-1.02340981 -0.64950761], Spread: 8.501957771800095\n",
      "Iteration: 6, Max Value: -4.89774029455712 at [-0.27997206 -1.42108574], Spread: 5.730510759883507\n",
      "Iteration: 7, Max Value: -3.7404771900856555 at [ 0.17986739 -2.40996272], Spread: 2.7133466123437704\n",
      "Iteration: 8, Max Value: -2.2177056881004247 at [ 0.90042719 -1.70276629], Spread: 3.1252637795665827\n",
      "Iteration: 9, Max Value: -1.5089039290273338 at [ 1.41375733 -1.90276629], Spread: 2.599933485315741\n",
      "Iteration: 10, Max Value: -1.1338605912914812 at [ 1.96229943 -1.5248704 ], Spread: 0.8010012022798085\n",
      "Iteration: 11, Max Value: -0.9607832726250667 at [ 2.21072189 -1.90276629], Spread: 0.6234837276518466\n",
      "Iteration: 12, Max Value: -0.9385475438087842 at [ 2.30380209 -1.92691467], Spread: 0.4223340164250968\n",
      "Iteration: 13, Max Value: -0.9385475438087842 at [ 2.30380209 -1.92691467], Spread: 0.3186231466713684\n",
      "Iteration: 14, Max Value: -0.9209911832079387 at [ 2.56228485 -1.91502987], Spread: 0.08278118825351144\n",
      "Iteration: 15, Max Value: -0.9209911832079387 at [ 2.56228485 -1.91502987], Spread: 0.05681456847049027\n",
      "Iteration: 16, Max Value: -0.9209911832079387 at [ 2.56228485 -1.91502987], Spread: 0.12858314302791696\n",
      "Iteration: 17, Max Value: -0.9209911832079387 at [ 2.56228485 -1.91502987], Spread: 0.028146404745132858\n",
      "Iteration: 18, Max Value: -0.9209911832079387 at [ 2.56228485 -1.91502987], Spread: 0.02978562827994391\n",
      "Iteration: 19, Max Value: -0.9209911832079387 at [ 2.56228485 -1.91502987], Spread: 0.07642268027893684\n",
      "Iteration: 20, Max Value: -0.9209911832079387 at [ 2.56228485 -1.91502987], Spread: 0.02046840024929708\n",
      "Iteration: 21, Max Value: -0.9209911832079387 at [ 2.56228485 -1.91502987], Spread: 0.02298878057413445\n",
      "Iteration: 22, Max Value: -0.9209911832079387 at [ 2.56228485 -1.91502987], Spread: 0.03504511089508877\n",
      "Iteration: 23, Max Value: -0.9209911832079387 at [ 2.56228485 -1.91502987], Spread: 0.05598734128868532\n",
      "Iteration: 24, Max Value: -0.9209911832079387 at [ 2.56228485 -1.91502987], Spread: 0.08819836985987195\n",
      "Iteration: 25, Max Value: -0.9209911832079387 at [ 2.56228485 -1.91502987], Spread: 0.022455020505125156\n",
      "Iteration: 26, Max Value: -0.9209911832079387 at [ 2.56228485 -1.91502987], Spread: 0.03189377250148706\n",
      "Iteration: 27, Max Value: -0.9209911832079387 at [ 2.56228485 -1.91502987], Spread: 0.03614464534247175\n",
      "Iteration: 28, Max Value: -0.9209911832079387 at [ 2.56228485 -1.91502987], Spread: 0.1105283312766484\n",
      "Iteration: 29, Max Value: -0.9209911832079387 at [ 2.56228485 -1.91502987], Spread: 0.046395288277277125\n",
      "Iteration: 30, Max Value: -0.9209911832079387 at [ 2.56228485 -1.91502987], Spread: 0.015459664057098088\n",
      "Iteration: 31, Max Value: -0.9209911832079387 at [ 2.56228485 -1.91502987], Spread: 0.04709079439079755\n",
      "Iteration: 32, Max Value: -0.9209911832079387 at [ 2.56228485 -1.91502987], Spread: 0.03592896901333276\n",
      "Iteration: 33, Max Value: -0.9209911832079387 at [ 2.56228485 -1.91502987], Spread: 0.11027786578645038\n",
      "Iteration: 34, Max Value: -0.9209911832079387 at [ 2.56228485 -1.91502987], Spread: 0.08411360343062124\n",
      "Iteration: 35, Max Value: -0.9209911832079387 at [ 2.56228485 -1.91502987], Spread: 0.10647577529326624\n",
      "Iteration: 36, Max Value: -0.9209911832079387 at [ 2.56228485 -1.91502987], Spread: 0.06180741172485804\n",
      "Iteration: 37, Max Value: -0.9209911832079387 at [ 2.56228485 -1.91502987], Spread: 0.007569635956052867\n",
      "Iteration: 38, Max Value: -0.9209911832079387 at [ 2.56228485 -1.91502987], Spread: 0.03597157119666572\n",
      "Iteration: 39, Max Value: -0.9209764369021153 at [ 2.55854472 -1.8745378 ], Spread: 0.07970916676269557\n",
      "Iteration: 40, Max Value: -0.9209764369021153 at [ 2.55854472 -1.8745378 ], Spread: 0.07353230729558902\n",
      "Iteration: 41, Max Value: -0.9194443695965625 at [ 2.53144439 -1.90478783], Spread: 0.08200533101661323\n",
      "Iteration: 42, Max Value: -0.9194443695965625 at [ 2.53144439 -1.90478783], Spread: 0.04789009461485416\n",
      "Iteration: 43, Max Value: -0.9194443695965625 at [ 2.53144439 -1.90478783], Spread: 0.02142151186032526\n",
      "Iteration: 44, Max Value: -0.9194443695965625 at [ 2.53144439 -1.90478783], Spread: 0.046160314845862915\n",
      "Iteration: 45, Max Value: -0.9194443695965625 at [ 2.53144439 -1.90478783], Spread: 0.02169850301912113\n",
      "Iteration: 46, Max Value: -0.9194443695965625 at [ 2.53144439 -1.90478783], Spread: 0.02437030812126284\n",
      "Iteration: 47, Max Value: -0.9194443695965625 at [ 2.53144439 -1.90478783], Spread: 0.04455719830455507\n",
      "Iteration: 48, Max Value: -0.9194443695965625 at [ 2.53144439 -1.90478783], Spread: 0.05794899027682676\n",
      "Iteration: 49, Max Value: -0.9194443695965625 at [ 2.53144439 -1.90478783], Spread: 0.07501737306992651\n",
      "Iteration: 50, Max Value: -0.9194443695965625 at [ 2.53144439 -1.90478783], Spread: 0.02766884968287453\n",
      "Iteration: 51, Max Value: -0.9194443695965625 at [ 2.53144439 -1.90478783], Spread: 0.015850291617640733\n",
      "Iteration: 52, Max Value: -0.9194443695965625 at [ 2.53144439 -1.90478783], Spread: 0.04867823696703166\n",
      "Iteration: 53, Max Value: -0.9194443695965625 at [ 2.53144439 -1.90478783], Spread: 0.05989107730610699\n",
      "Iteration: 54, Max Value: -0.9194443695965625 at [ 2.53144439 -1.90478783], Spread: 0.14336291267247414\n",
      "Iteration: 55, Max Value: -0.9194443695965625 at [ 2.53144439 -1.90478783], Spread: 0.07089879479277073\n",
      "Iteration: 56, Max Value: -0.9194443695965625 at [ 2.53144439 -1.90478783], Spread: 0.0779465293403373\n",
      "Iteration: 57, Max Value: -0.9194443695965625 at [ 2.53144439 -1.90478783], Spread: 0.1214902231781706\n",
      "Iteration: 58, Max Value: -0.9194443695965625 at [ 2.53144439 -1.90478783], Spread: 0.04527858046238309\n",
      "Iteration: 59, Max Value: -0.9194443695965625 at [ 2.53144439 -1.90478783], Spread: 0.037899400378202275\n",
      "Iteration: 60, Max Value: -0.9194443695965625 at [ 2.53144439 -1.90478783], Spread: 0.05493785676378371\n",
      "Iteration: 61, Max Value: -0.9194443695965625 at [ 2.53144439 -1.90478783], Spread: 0.036754305022577705\n",
      "Iteration: 62, Max Value: -0.9194443695965625 at [ 2.53144439 -1.90478783], Spread: 0.08643043157151453\n",
      "Iteration: 63, Max Value: -0.9194443695965625 at [ 2.53144439 -1.90478783], Spread: 0.037821707980512875\n",
      "Saving final results to file MWE_swarm/Results_Summary.txt\n"
     ]
    },
    {
     "data": {
      "text/plain": [
       "<Figure size 640x480 with 0 Axes>"
      ]
     },
     "metadata": {},
     "output_type": "display_data"
    },
    {
     "data": {
      "text/plain": [
       "<Figure size 640x480 with 0 Axes>"
      ]
     },
     "metadata": {},
     "output_type": "display_data"
    }
   ],
   "source": [
    "\n",
    "mymodel = GaussianModel()\n",
    "\n",
    "NumParticles = 5\n",
    "\n",
    "outdir = 'MWE_swarm/'\n",
    "\n",
    "myswarm = PySO.Swarm(mymodel,\n",
    "                     NumParticles,\n",
    "                     Phip = 2.0,\n",
    "                     Phig = 2.1,\n",
    "                     Omega = 0.5,\n",
    "                     Output = outdir,\n",
    "                     Periodic=[0,1],\n",
    "                     Verbose = True,\n",
    "                     Nperiodiccheckpoint = 1, #  evolution is saved at every iteration. Only necessary if running myswarm.Plot()\n",
    "                     Saveevolution = True,    ############\n",
    "                     Plotevolution = True, # Evolution is plotted in pair and function plots\n",
    "                     Maxiter=200,\n",
    "                     Tol = 0.01,\n",
    "                     Nthreads=None,\n",
    "                     Automatic_convergence_testing = True,\n",
    "                     Convergence_testing_num_iterations= 50,\n",
    "                     Constriction=True,\n",
    "                     Constriction_kappa=1.0)\n",
    "\n",
    "# Clear any existing history file\n",
    "history_file = os.path.join(outdir, \"SwarmEvolutionHistory.dat\")\n",
    "if os.path.isfile(history_file): os.system('rm {}'.format(history_file))\n",
    "\n",
    "import sys \n",
    "if __name__=='__main__':\n",
    "    myswarm.Run()\n",
    "\n",
    "# myswarm.PlotSwarmEvolution()\n"
   ]
  },
  {
   "cell_type": "code",
   "execution_count": null,
   "id": "02f68f81-689a-4b55-b1b4-cf0aab43698f",
   "metadata": {},
   "outputs": [],
   "source": []
  }
 ],
 "metadata": {
  "kernelspec": {
   "display_name": "Python 3 (ipykernel)",
   "language": "python",
   "name": "python3"
  },
  "language_info": {
   "codemirror_mode": {
    "name": "ipython",
    "version": 3
   },
   "file_extension": ".py",
   "mimetype": "text/x-python",
   "name": "python",
   "nbconvert_exporter": "python",
   "pygments_lexer": "ipython3",
   "version": "3.8.10"
  }
 },
 "nbformat": 4,
 "nbformat_minor": 5
}
