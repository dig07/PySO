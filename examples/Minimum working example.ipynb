{
 "cells": [
  {
   "cell_type": "code",
   "execution_count": 1,
   "id": "18df7a74",
   "metadata": {},
   "outputs": [],
   "source": [
    "import numpy as np \n",
    "import PySO\n",
    "import os"
   ]
  },
  {
   "cell_type": "code",
   "execution_count": 8,
   "id": "7ab27e2b",
   "metadata": {},
   "outputs": [],
   "source": [
    "#Simple gaussian to optimize/sample \n",
    "class GaussianModel(PySO.Model):\n",
    "    \"\"\"\n",
    "    A simple 2D Gaussian\n",
    "    \"\"\"\n",
    "    \n",
    "    names    = ['x', 'y'] \n",
    "    bounds   = [[-10,10], [-10,10]]\n",
    "\n",
    "    def log_likelihood(self, param):\n",
    "        return -0.5 * ((param['x']-2.5)**2 + (param['y']+1.9)**2) - 0.5 * np.log(2*np.pi)\n"
   ]
  },
  {
   "cell_type": "code",
   "execution_count": 9,
   "id": "b3835bb5",
   "metadata": {},
   "outputs": [
    {
     "name": "stdout",
     "output_type": "stream",
     "text": [
      "Iteration: 1, Max Value: -1.3628181840992724 at [ 3.31006897 -2.3811939 ], Spread: 99.33395186825832\n",
      "Iteration: 2, Max Value: -1.3628181840992724 at [ 3.31006897 -2.3811939 ], Spread: 88.3302652090236\n",
      "Iteration: 3, Max Value: -1.1780291188791132 at [ 2.24434284 -1.22708055], Spread: 66.03394355277936\n",
      "Iteration: 4, Max Value: -1.1780291188791132 at [ 2.24434284 -1.22708055], Spread: 52.16515561895045\n",
      "Iteration: 5, Max Value: -1.0183877576856228 at [ 2.22618223 -1.54797404], Spread: 41.66880635839437\n",
      "Iteration: 6, Max Value: -0.9891570019160432 at [ 2.81442263 -1.69609966], Spread: 28.95495239331511\n",
      "Iteration: 7, Max Value: -0.9254924083344074 at [ 2.61442263 -1.89609966], Spread: 21.19450680987763\n",
      "Iteration: 8, Max Value: -0.92069427046054 at [ 2.44680479 -1.87388976], Spread: 10.679760698706383\n",
      "Iteration: 9, Max Value: -0.92069427046054 at [ 2.44680479 -1.87388976], Spread: 6.444321437326915\n",
      "Iteration: 10, Max Value: -0.919100678413724 at [ 2.50861716 -1.91581249], Spread: 4.38465633021238\n",
      "Iteration: 11, Max Value: -0.919100678413724 at [ 2.50861716 -1.91581249], Spread: 3.2260263722872593\n",
      "Iteration: 12, Max Value: -0.919100678413724 at [ 2.50861716 -1.91581249], Spread: 2.4832048105786235\n",
      "Iteration: 13, Max Value: -0.919100678413724 at [ 2.50861716 -1.91581249], Spread: 1.5170001004787945\n",
      "Iteration: 14, Max Value: -0.919100678413724 at [ 2.50861716 -1.91581249], Spread: 1.0865760154509128\n",
      "Iteration: 15, Max Value: -0.919100678413724 at [ 2.50861716 -1.91581249], Spread: 0.9782522821566089\n",
      "Iteration: 16, Max Value: -0.919100678413724 at [ 2.50861716 -1.91581249], Spread: 1.0136074797117738\n",
      "Iteration: 17, Max Value: -0.919100678413724 at [ 2.50861716 -1.91581249], Spread: 0.9098174466949782\n",
      "Iteration: 18, Max Value: -0.919100678413724 at [ 2.50861716 -1.91581249], Spread: 1.2435266783212124\n",
      "Iteration: 19, Max Value: -0.919100678413724 at [ 2.50861716 -1.91581249], Spread: 1.0407037374865904\n",
      "Iteration: 20, Max Value: -0.919100678413724 at [ 2.50861716 -1.91581249], Spread: 0.7619956386254336\n",
      "Iteration: 21, Max Value: -0.919100678413724 at [ 2.50861716 -1.91581249], Spread: 0.7274294181049622\n",
      "Iteration: 22, Max Value: -0.919100678413724 at [ 2.50861716 -1.91581249], Spread: 0.8148951013097759\n",
      "Iteration: 23, Max Value: -0.919100678413724 at [ 2.50861716 -1.91581249], Spread: 1.0047626167535966\n",
      "Iteration: 24, Max Value: -0.919100678413724 at [ 2.50861716 -1.91581249], Spread: 0.8215228892396319\n",
      "Iteration: 25, Max Value: -0.919100678413724 at [ 2.50861716 -1.91581249], Spread: 0.7878443613423763\n",
      "Iteration: 26, Max Value: -0.919100678413724 at [ 2.50861716 -1.91581249], Spread: 0.8053679038922709\n",
      "Iteration: 27, Max Value: -0.919100678413724 at [ 2.50861716 -1.91581249], Spread: 0.8856184201862087\n",
      "Iteration: 28, Max Value: -0.919100678413724 at [ 2.50861716 -1.91581249], Spread: 1.0277571015439246\n",
      "Iteration: 29, Max Value: -0.919100678413724 at [ 2.50861716 -1.91581249], Spread: 1.0237509230231079\n",
      "Iteration: 30, Max Value: -0.919100678413724 at [ 2.50861716 -1.91581249], Spread: 1.0721439827404067\n",
      "Iteration: 31, Max Value: -0.919100678413724 at [ 2.50861716 -1.91581249], Spread: 0.8714868671794316\n",
      "Iteration: 32, Max Value: -0.919100678413724 at [ 2.50861716 -1.91581249], Spread: 0.7626421922744108\n",
      "Iteration: 33, Max Value: -0.919100678413724 at [ 2.50861716 -1.91581249], Spread: 0.6445306927946819\n",
      "Iteration: 34, Max Value: -0.919100678413724 at [ 2.50861716 -1.91581249], Spread: 0.8771208859551582\n",
      "Iteration: 35, Max Value: -0.919100678413724 at [ 2.50861716 -1.91581249], Spread: 0.942593619394657\n",
      "Iteration: 36, Max Value: -0.919100678413724 at [ 2.50861716 -1.91581249], Spread: 0.7458119666448394\n",
      "Iteration: 37, Max Value: -0.919100678413724 at [ 2.50861716 -1.91581249], Spread: 0.8606218253335837\n",
      "Iteration: 38, Max Value: -0.919100678413724 at [ 2.50861716 -1.91581249], Spread: 0.8716397692020342\n",
      "Iteration: 39, Max Value: -0.919100678413724 at [ 2.50861716 -1.91581249], Spread: 0.6475111876631291\n",
      "Iteration: 40, Max Value: -0.919100678413724 at [ 2.50861716 -1.91581249], Spread: 0.6344660333015484\n",
      "Iteration: 41, Max Value: -0.919100678413724 at [ 2.50861716 -1.91581249], Spread: 0.8478860899249094\n",
      "Iteration: 42, Max Value: -0.919100678413724 at [ 2.50861716 -1.91581249], Spread: 0.7231917838783698\n",
      "Iteration: 43, Max Value: -0.919100678413724 at [ 2.50861716 -1.91581249], Spread: 0.8455158652528467\n",
      "Iteration: 44, Max Value: -0.919100678413724 at [ 2.50861716 -1.91581249], Spread: 0.7504740901630891\n",
      "Iteration: 45, Max Value: -0.919100678413724 at [ 2.50861716 -1.91581249], Spread: 0.8060545068904499\n",
      "Iteration: 46, Max Value: -0.919100678413724 at [ 2.50861716 -1.91581249], Spread: 0.8928439349947485\n",
      "Iteration: 47, Max Value: -0.919100678413724 at [ 2.50861716 -1.91581249], Spread: 0.9069690123363298\n",
      "Iteration: 48, Max Value: -0.919100678413724 at [ 2.50861716 -1.91581249], Spread: 0.79556574311237\n",
      "Iteration: 49, Max Value: -0.919100678413724 at [ 2.50861716 -1.91581249], Spread: 0.9404414056027243\n",
      "Iteration: 50, Max Value: -0.919100678413724 at [ 2.50861716 -1.91581249], Spread: 0.8993935782705833\n",
      "Iteration: 51, Max Value: -0.919100678413724 at [ 2.50861716 -1.91581249], Spread: 0.8527446972681764\n",
      "Iteration: 52, Max Value: -0.919100678413724 at [ 2.50861716 -1.91581249], Spread: 0.6393822249130269\n",
      "Iteration: 53, Max Value: -0.919100678413724 at [ 2.50861716 -1.91581249], Spread: 0.9322259813370152\n",
      "Iteration: 54, Max Value: -0.919100678413724 at [ 2.50861716 -1.91581249], Spread: 0.8979723338059133\n",
      "Iteration: 55, Max Value: -0.919100678413724 at [ 2.50861716 -1.91581249], Spread: 1.0828344798181782\n",
      "Iteration: 56, Max Value: -0.919100678413724 at [ 2.50861716 -1.91581249], Spread: 0.7099653821124737\n",
      "Saving final results to file MWE_swarm/Results_Summary.txt\n"
     ]
    },
    {
     "data": {
      "text/plain": [
       "<Figure size 640x480 with 0 Axes>"
      ]
     },
     "metadata": {},
     "output_type": "display_data"
    },
    {
     "data": {
      "text/plain": [
       "<Figure size 640x480 with 0 Axes>"
      ]
     },
     "metadata": {},
     "output_type": "display_data"
    },
    {
     "data": {
      "text/plain": [
       "<Figure size 640x480 with 0 Axes>"
      ]
     },
     "metadata": {},
     "output_type": "display_data"
    },
    {
     "data": {
      "text/plain": [
       "<Figure size 640x480 with 0 Axes>"
      ]
     },
     "metadata": {},
     "output_type": "display_data"
    }
   ],
   "source": [
    "\n",
    "mymodel = GaussianModel()\n",
    "\n",
    "NumParticles = 100\n",
    "\n",
    "outdir = 'MWE_swarm/'\n",
    "\n",
    "myswarm = PySO.Swarm(mymodel,\n",
    "                     NumParticles,\n",
    "                     Output = outdir,\n",
    "                     Periodic=[0,1],\n",
    "                     Verbose = True,\n",
    "                     Nperiodiccheckpoint = 1, # Final two args mean evolution is saved at every iteration. Only necessary if running myswarm.Plot()\n",
    "                     Saveevolution = True,    ############\n",
    "                     Maxiter=200,\n",
    "                     Tol = 0.01,\n",
    "                     Automatic_convergence_testing = True,\n",
    "                     Convergence_testing_num_iterations= 50)\n",
    "\n",
    "# Clear any existing history file\n",
    "history_file = os.path.join(outdir, \"SwarmEvolutionHistory.dat\")\n",
    "if os.path.isfile(history_file): os.system('rm {}'.format(history_file))\n",
    "\n",
    "myswarm.Run()\n",
    "\n",
    "myswarm.PlotSwarmEvolution()\n"
   ]
  },
  {
   "cell_type": "code",
   "execution_count": null,
   "id": "8a6ac111",
   "metadata": {},
   "outputs": [],
   "source": []
  },
  {
   "cell_type": "code",
   "execution_count": null,
   "id": "f2d8e72b",
   "metadata": {},
   "outputs": [],
   "source": []
  },
  {
   "cell_type": "code",
   "execution_count": null,
   "id": "bfd4386b-64bc-41df-84c5-0d2dbc999bb9",
   "metadata": {},
   "outputs": [],
   "source": []
  }
 ],
 "metadata": {
  "kernelspec": {
   "display_name": "Python 3 (ipykernel)",
   "language": "python",
   "name": "python3"
  },
  "language_info": {
   "codemirror_mode": {
    "name": "ipython",
    "version": 3
   },
   "file_extension": ".py",
   "mimetype": "text/x-python",
   "name": "python",
   "nbconvert_exporter": "python",
   "pygments_lexer": "ipython3",
   "version": "3.9.16"
  }
 },
 "nbformat": 4,
 "nbformat_minor": 5
}
