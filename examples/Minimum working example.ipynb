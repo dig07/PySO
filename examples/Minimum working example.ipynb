{
 "cells": [
  {
   "cell_type": "code",
   "execution_count": 3,
   "id": "18df7a74",
   "metadata": {},
   "outputs": [],
   "source": [
    "import numpy as np \n",
    "import PySO\n",
    "import os"
   ]
  },
  {
   "cell_type": "code",
   "execution_count": 4,
   "id": "7ab27e2b",
   "metadata": {},
   "outputs": [],
   "source": [
    "#Simple gaussian to optimize/sample \n",
    "class GaussianModel(PySO.Model):\n",
    "    \"\"\"\n",
    "    A simple 2D Gaussian\n",
    "    \"\"\"\n",
    "    \n",
    "    names    = ['x', 'y'] \n",
    "    bounds   = [[-10,10], [-10,10]]\n",
    "    periodic = [0, 0]\n",
    "\n",
    "    def log_likelihood(self, param):\n",
    "        return -0.5 * ((param['x']-2.5)**2 + (param['y']+1.9)**2) - 0.5 * np.log(2*np.pi)\n"
   ]
  },
  {
   "cell_type": "code",
   "execution_count": 5,
   "id": "b3835bb5",
   "metadata": {},
   "outputs": [
    {
     "name": "stdout",
     "output_type": "stream",
     "text": [
      "Iteration: 1, Max Value: -1.1417075388114373 at [ 2.28135617 -0.83327012], Spread: 105.33076698825562\n",
      "Iteration: 2, Max Value: -1.1417075388114373 at [ 2.28135617 -0.83327012], Spread: 79.39242842085943\n",
      "Iteration: 3, Max Value: -1.1417075388114373 at [ 2.28135617 -0.83327012], Spread: 62.19437699585011\n",
      "Iteration: 4, Max Value: -1.1417075388114373 at [ 2.28135617 -0.83327012], Spread: 45.787111054285496\n",
      "Iteration: 5, Max Value: -1.1417075388114373 at [ 2.28135617 -0.83327012], Spread: 38.867475297290156\n",
      "Iteration: 6, Max Value: -1.1362313718394863 at [ 3.15710098 -1.84704738], Spread: 31.54928430465914\n",
      "Iteration: 7, Max Value: -1.061978019420434 at [ 2.20005655 -1.45715364], Spread: 27.77528498099024\n",
      "Iteration: 8, Max Value: -1.018890407418608 at [ 2.30217734 -1.49903872], Spread: 23.876384068104556\n",
      "Iteration: 9, Max Value: -0.9995468016428418 at [ 2.36020237 -1.52360505], Spread: 20.173560021893685\n",
      "Iteration: 10, Max Value: -0.9901757211579308 at [ 2.39307799 -1.53800268], Spread: 16.408800337758656\n",
      "Iteration: 11, Max Value: -0.9837431697244238 at [ 2.68819514 -2.20690693], Spread: 12.02397563275294\n",
      "Iteration: 12, Max Value: -0.9520989997148672 at [ 2.46153106 -1.6453609 ], Spread: 6.792305602760203\n",
      "Iteration: 13, Max Value: -0.9383754159171372 at [ 2.4896329  -1.70310843], Spread: 4.003335983184615\n",
      "Iteration: 14, Max Value: -0.9259843828805465 at [ 2.60518981 -1.95501638], Spread: 1.7065993924340885\n",
      "Iteration: 15, Max Value: -0.922339300954413 at [ 2.58226721 -1.89419983], Spread: 0.5187030206009247\n",
      "Iteration: 16, Max Value: -0.9204960480427906 at [ 2.45920609 -1.93809051], Spread: 0.24923122170681955\n",
      "Iteration: 17, Max Value: -0.9190548755376281 at [ 2.51456025 -1.90454794], Spread: 0.08331112169462618\n",
      "Iteration: 18, Max Value: -0.9190548755376281 at [ 2.51936959 -2.01480583], Spread: 0.024769926536931997\n",
      "Iteration: 19, Max Value: -0.9189428252445649 at [ 2.50082497 -1.89718868], Spread: 0.05767882945753178\n",
      "Iteration: 20, Max Value: -0.9189428252445649 at [ 2.491919   -1.91000335], Spread: 0.05664923970436908\n",
      "Iteration: 21, Max Value: -0.9189428252445649 at [ 2.491919   -1.91000335], Spread: 0.041803442911284905\n",
      "Iteration: 22, Max Value: -0.9189428252445649 at [ 2.491919   -1.91000335], Spread: 0.02252279464420137\n",
      "Iteration: 23, Max Value: -0.9189428252445649 at [ 2.491919   -1.91000335], Spread: 0.010481808946044335\n",
      "Iteration: 24, Max Value: -0.9189428252445649 at [ 2.491919   -1.91000335], Spread: 0.0029639053376464553\n",
      "Saving final results to file results/Results_Summary.txt\n"
     ]
    }
   ],
   "source": [
    "\n",
    "mymodel = GaussianModel()\n",
    "\n",
    "NumParticles = 100\n",
    "\n",
    "outdir = 'results/'\n",
    "\n",
    "myswarm = PySO.MWE_Swarm(mymodel,\n",
    "                     NumParticles,\n",
    "                     Output = outdir,\n",
    "                     Verbose = True,\n",
    "                     nPeriodicCheckpoint = 1, # Final two args mean evolution is saved at every iteration. Only necessary if running myswarm.Plot()\n",
    "                     SaveEvolution = True,    ############\n",
    "                     Tol = 1.0e-2)\n",
    "\n",
    "# Clear any existing history file\n",
    "history_file = os.path.join(outdir, \"SwarmEvolutionHistory.dat\")\n",
    "if os.path.isfile(history_file): os.system('rm {}'.format(history_file))\n",
    "\n",
    "myswarm.Run()\n",
    "\n",
    "myswarm.PlotSwarmEvolution()\n"
   ]
  },
  {
   "cell_type": "code",
   "execution_count": null,
   "id": "8a6ac111",
   "metadata": {},
   "outputs": [],
   "source": []
  },
  {
   "cell_type": "code",
   "execution_count": null,
   "id": "f2d8e72b",
   "metadata": {},
   "outputs": [],
   "source": []
  }
 ],
 "metadata": {
  "kernelspec": {
   "display_name": "Python 3 (ipykernel)",
   "language": "python",
   "name": "python3"
  },
  "language_info": {
   "codemirror_mode": {
    "name": "ipython",
    "version": 3
   },
   "file_extension": ".py",
   "mimetype": "text/x-python",
   "name": "python",
   "nbconvert_exporter": "python",
   "pygments_lexer": "ipython3",
   "version": "3.8.10"
  }
 },
 "nbformat": 4,
 "nbformat_minor": 5
}
