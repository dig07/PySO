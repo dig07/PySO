{
 "cells": [
  {
   "cell_type": "code",
   "execution_count": 3,
   "id": "18df7a74",
   "metadata": {},
   "outputs": [],
   "source": [
    "import numpy as np \n",
    "import PySO\n",
    "import os"
   ]
  },
  {
   "cell_type": "code",
   "execution_count": 4,
   "id": "7ab27e2b",
   "metadata": {},
   "outputs": [],
   "source": [
    "#Simple gaussian to optimize/sample \n",
    "class GaussianModel(PySO.Model):\n",
    "    \"\"\"\n",
    "    A simple 2D Gaussian\n",
    "    \"\"\"\n",
    "    \n",
    "    names    = ['x', 'y'] \n",
    "    bounds   = [[-10,10], [-10,10]]\n",
    "\n",
    "    def log_likelihood(self, param):\n",
    "        return -0.5 * ((param['x']-2.5)**2 + (param['y']+1.9)**2) - 0.5 * np.log(2*np.pi)\n"
   ]
  },
  {
   "cell_type": "code",
   "execution_count": 6,
   "id": "b3835bb5",
   "metadata": {},
   "outputs": [
    {
     "name": "stdout",
     "output_type": "stream",
     "text": [
      "Iteration: 1, Max Value: -1.231486419468111 at [ 1.73622655 -2.10431812], Spread: 110.16922732513302\n",
      "Iteration: 2, Max Value: -1.149961816602395 at [ 2.85582532 -2.47916742], Spread: 78.16111453501004\n",
      "Iteration: 3, Max Value: -1.0654394314061748 at [ 2.94598975 -2.20674898], Spread: 69.84442190851064\n",
      "Iteration: 4, Max Value: -1.0156216029807563 at [ 2.91351089 -2.04958236], Spread: 56.67205996320747\n",
      "Iteration: 5, Max Value: -0.9663791690700771 at [ 2.24509685 -1.72706749], Spread: 47.44206966793316\n",
      "Iteration: 6, Max Value: -0.9393544502399152 at [ 2.49891772 -1.69793401], Spread: 29.067363432988664\n",
      "Iteration: 7, Max Value: -0.9308651815625605 at [ 2.58882439 -2.02634685], Spread: 17.66346665967797\n",
      "Iteration: 8, Max Value: -0.9308651815625605 at [ 2.58882439 -2.02634685], Spread: 12.203102266362395\n",
      "Iteration: 9, Max Value: -0.9308651815625605 at [ 2.58882439 -2.02634685], Spread: 7.659155366398137\n",
      "Iteration: 10, Max Value: -0.9221675358826761 at [ 2.57528581 -1.92810786], Spread: 5.263749866667397\n",
      "Iteration: 11, Max Value: -0.9221675358826761 at [ 2.57528581 -1.92810786], Spread: 3.4113448581977597\n",
      "Iteration: 12, Max Value: -0.9214338915606566 at [ 2.53066232 -1.83635616], Spread: 2.010560783478785\n",
      "Iteration: 13, Max Value: -0.9214338915606566 at [ 2.53066232 -1.83635616], Spread: 1.435065364478909\n",
      "Iteration: 14, Max Value: -0.9191988914490292 at [ 2.4823285  -1.88556273], Spread: 1.3087285750548212\n",
      "Iteration: 15, Max Value: -0.9191988914490292 at [ 2.4823285  -1.88556273], Spread: 1.0224184342746505\n",
      "Iteration: 16, Max Value: -0.9191988914490292 at [ 2.4823285  -1.88556273], Spread: 1.0137407107559118\n",
      "Iteration: 17, Max Value: -0.9191988914490292 at [ 2.4823285  -1.88556273], Spread: 0.7806524612486906\n",
      "Iteration: 18, Max Value: -0.9191988914490292 at [ 2.4823285  -1.88556273], Spread: 1.0008318385437711\n",
      "Iteration: 19, Max Value: -0.9191988914490292 at [ 2.4823285  -1.88556273], Spread: 0.8432567412103864\n",
      "Iteration: 20, Max Value: -0.9191988914490292 at [ 2.4823285  -1.88556273], Spread: 0.8007523259299029\n",
      "Iteration: 21, Max Value: -0.9191988914490292 at [ 2.4823285  -1.88556273], Spread: 0.7600620633194917\n",
      "Iteration: 22, Max Value: -0.9191988914490292 at [ 2.4823285  -1.88556273], Spread: 0.7064575377083484\n",
      "Iteration: 23, Max Value: -0.9191988914490292 at [ 2.4823285  -1.88556273], Spread: 1.073435238825468\n",
      "Iteration: 24, Max Value: -0.9191988914490292 at [ 2.4823285  -1.88556273], Spread: 1.0055927785325267\n",
      "Iteration: 25, Max Value: -0.9191988914490292 at [ 2.4823285  -1.88556273], Spread: 0.7727530590723456\n",
      "Iteration: 26, Max Value: -0.9191988914490292 at [ 2.4823285  -1.88556273], Spread: 0.6823535338635681\n",
      "Iteration: 27, Max Value: -0.9191988914490292 at [ 2.4823285  -1.88556273], Spread: 0.6816607278810839\n",
      "Iteration: 28, Max Value: -0.9191988914490292 at [ 2.4823285  -1.88556273], Spread: 0.7675184724237166\n",
      "Iteration: 29, Max Value: -0.9191988914490292 at [ 2.4823285  -1.88556273], Spread: 0.8559953191420951\n",
      "Iteration: 30, Max Value: -0.9191988914490292 at [ 2.4823285  -1.88556273], Spread: 1.1158873498011401\n",
      "Iteration: 31, Max Value: -0.9191988914490292 at [ 2.4823285  -1.88556273], Spread: 1.0539617791660518\n",
      "Iteration: 32, Max Value: -0.9191988914490292 at [ 2.4823285  -1.88556273], Spread: 0.739207198485608\n",
      "Iteration: 33, Max Value: -0.9191988914490292 at [ 2.4823285  -1.88556273], Spread: 0.7755117303823525\n",
      "Iteration: 34, Max Value: -0.9191988914490292 at [ 2.4823285  -1.88556273], Spread: 0.8060123823589228\n",
      "Iteration: 35, Max Value: -0.9191988914490292 at [ 2.4823285  -1.88556273], Spread: 0.6389635690495837\n",
      "Iteration: 36, Max Value: -0.9191988914490292 at [ 2.4823285  -1.88556273], Spread: 0.5875646588344939\n",
      "Iteration: 37, Max Value: -0.9191988914490292 at [ 2.4823285  -1.88556273], Spread: 0.7849039296241659\n",
      "Iteration: 38, Max Value: -0.9191988914490292 at [ 2.4823285  -1.88556273], Spread: 1.1393176160641458\n",
      "Iteration: 39, Max Value: -0.9191988914490292 at [ 2.4823285  -1.88556273], Spread: 1.0024968464435684\n",
      "Iteration: 40, Max Value: -0.9191988914490292 at [ 2.4823285  -1.88556273], Spread: 0.977250024668937\n",
      "Iteration: 41, Max Value: -0.9191988914490292 at [ 2.4823285  -1.88556273], Spread: 1.0226885499795766\n",
      "Iteration: 42, Max Value: -0.9191988914490292 at [ 2.4823285  -1.88556273], Spread: 0.8061286158240037\n",
      "Iteration: 43, Max Value: -0.9191988914490292 at [ 2.4823285  -1.88556273], Spread: 0.7619050692400485\n",
      "Iteration: 44, Max Value: -0.9191988914490292 at [ 2.4823285  -1.88556273], Spread: 0.5459829660990965\n",
      "Iteration: 45, Max Value: -0.9191988914490292 at [ 2.4823285  -1.88556273], Spread: 0.5974045513213194\n",
      "Iteration: 46, Max Value: -0.9191988914490292 at [ 2.4823285  -1.88556273], Spread: 0.8129472350660851\n",
      "Iteration: 47, Max Value: -0.9191988914490292 at [ 2.4823285  -1.88556273], Spread: 0.6356507016730235\n",
      "Iteration: 48, Max Value: -0.9191988914490292 at [ 2.4823285  -1.88556273], Spread: 0.5438647032024063\n",
      "Iteration: 49, Max Value: -0.9191988914490292 at [ 2.4823285  -1.88556273], Spread: 0.4512642047381642\n",
      "Iteration: 50, Max Value: -0.9191988914490292 at [ 2.4823285  -1.88556273], Spread: 0.7046163237479827\n",
      "Iteration: 51, Max Value: -0.9191988914490292 at [ 2.4823285  -1.88556273], Spread: 0.8983864582153315\n",
      "Iteration: 52, Max Value: -0.9191988914490292 at [ 2.4823285  -1.88556273], Spread: 0.9396689206184382\n",
      "Iteration: 53, Max Value: -0.9191988914490292 at [ 2.4823285  -1.88556273], Spread: 0.6642144475828438\n",
      "Iteration: 54, Max Value: -0.9191988914490292 at [ 2.4823285  -1.88556273], Spread: 0.7677256806644589\n",
      "Iteration: 55, Max Value: -0.9191988914490292 at [ 2.4823285  -1.88556273], Spread: 0.6212118208781983\n",
      "Iteration: 56, Max Value: -0.9191988914490292 at [ 2.4823285  -1.88556273], Spread: 0.6797960961239731\n",
      "Iteration: 57, Max Value: -0.9191988914490292 at [ 2.4823285  -1.88556273], Spread: 0.9755711977329133\n",
      "Iteration: 58, Max Value: -0.9191988914490292 at [ 2.4823285  -1.88556273], Spread: 0.8183633374465321\n",
      "Iteration: 59, Max Value: -0.9191988914490292 at [ 2.4823285  -1.88556273], Spread: 0.6651442033194559\n",
      "Saving final results to file MWE_swarm/Results_Summary.txt\n"
     ]
    },
    {
     "data": {
      "text/plain": [
       "<Figure size 640x480 with 0 Axes>"
      ]
     },
     "metadata": {},
     "output_type": "display_data"
    },
    {
     "data": {
      "text/plain": [
       "<Figure size 640x480 with 0 Axes>"
      ]
     },
     "metadata": {},
     "output_type": "display_data"
    },
    {
     "data": {
      "text/plain": [
       "<Figure size 640x480 with 0 Axes>"
      ]
     },
     "metadata": {},
     "output_type": "display_data"
    },
    {
     "data": {
      "text/plain": [
       "<Figure size 640x480 with 0 Axes>"
      ]
     },
     "metadata": {},
     "output_type": "display_data"
    }
   ],
   "source": [
    "\n",
    "mymodel = GaussianModel()\n",
    "\n",
    "NumParticles = 100\n",
    "\n",
    "outdir = 'MWE_swarm/'\n",
    "\n",
    "myswarm = PySO.Swarm(mymodel,\n",
    "                     NumParticles,\n",
    "                     Output = outdir,\n",
    "                     Periodic=[1,1],\n",
    "                     Verbose = True,\n",
    "                     Nperiodiccheckpoint = 1, # Final two args mean evolution is saved at every iteration. Only necessary if running myswarm.Plot()\n",
    "                     Saveevolution = True,    ############\n",
    "                     Maxiter=200,\n",
    "                     Tol = 0.01,\n",
    "                     Automatic_convergence_testing = True,\n",
    "                     Convergence_testing_num_iterations= 50)\n",
    "\n",
    "# Clear any existing history file\n",
    "history_file = os.path.join(outdir, \"SwarmEvolutionHistory.dat\")\n",
    "if os.path.isfile(history_file): os.system('rm {}'.format(history_file))\n",
    "\n",
    "myswarm.Run()\n",
    "\n",
    "myswarm.PlotSwarmEvolution()\n"
   ]
  },
  {
   "cell_type": "code",
   "execution_count": null,
   "id": "8a6ac111",
   "metadata": {},
   "outputs": [],
   "source": []
  },
  {
   "cell_type": "code",
   "execution_count": null,
   "id": "f2d8e72b",
   "metadata": {},
   "outputs": [],
   "source": []
  },
  {
   "cell_type": "code",
   "execution_count": null,
   "id": "bfd4386b-64bc-41df-84c5-0d2dbc999bb9",
   "metadata": {},
   "outputs": [],
   "source": []
  }
 ],
 "metadata": {
  "kernelspec": {
   "display_name": "Python 3 (ipykernel)",
   "language": "python",
   "name": "python3"
  },
  "language_info": {
   "codemirror_mode": {
    "name": "ipython",
    "version": 3
   },
   "file_extension": ".py",
   "mimetype": "text/x-python",
   "name": "python",
   "nbconvert_exporter": "python",
   "pygments_lexer": "ipython3",
   "version": "3.9.16"
  }
 },
 "nbformat": 4,
 "nbformat_minor": 5
}
