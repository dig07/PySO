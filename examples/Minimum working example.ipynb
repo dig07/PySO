{
 "cells": [
  {
   "cell_type": "code",
   "execution_count": 1,
   "id": "18df7a74",
   "metadata": {},
   "outputs": [],
   "source": [
    "import numpy as np \n",
    "import PySO\n",
    "import os"
   ]
  },
  {
   "cell_type": "code",
   "execution_count": 2,
   "id": "7ab27e2b",
   "metadata": {},
   "outputs": [],
   "source": [
    "#Simple gaussian to optimize/sample \n",
    "class GaussianModel(PySO.Model):\n",
    "    \"\"\"\n",
    "    A simple 2D Gaussian\n",
    "    \"\"\"\n",
    "    \n",
    "    names    = ['x', 'y'] \n",
    "    bounds   = [[-10,10], [-10,10]]\n",
    "    periodic = [0, 0]\n",
    "\n",
    "    def log_likelihood(self, param):\n",
    "        return -0.5 * ((param['x']-2.5)**2 + (param['y']+1.9)**2) - 0.5 * np.log(2*np.pi)\n"
   ]
  },
  {
   "cell_type": "code",
   "execution_count": 3,
   "id": "b3835bb5",
   "metadata": {},
   "outputs": [
    {
     "name": "stdout",
     "output_type": "stream",
     "text": [
      "Iteration: 1, Max Value: -1.392124067208885 at [ 3.22691565 -2.5465019 ], Spread: 93.80585754817625\n",
      "Iteration: 2, Max Value: -1.124256334803174 at [ 2.35825812 -2.52493587], Spread: 56.57199360421844\n",
      "Iteration: 3, Max Value: -1.124256334803174 at [ 2.85087698 -2.84844194], Spread: 35.01291740372908\n",
      "Iteration: 4, Max Value: -0.9276865055309936 at [ 2.4496292  -2.02230588], Spread: 26.62449254457798\n",
      "Iteration: 5, Max Value: -0.9276865055309936 at [ 2.90326458 -2.24523005], Spread: 17.341945923195315\n",
      "Iteration: 6, Max Value: -0.9194698341086199 at [ 2.47065365 -1.91419132], Spread: 12.455965744141396\n",
      "Iteration: 7, Max Value: -0.9194698341086199 at [ 2.50188389 -2.16636289], Spread: 8.779915591777803\n",
      "Iteration: 8, Max Value: -0.9194698341086199 at [ 2.50188389 -2.16636289], Spread: 4.865913076365523\n",
      "Iteration: 9, Max Value: -0.9194698341086199 at [ 2.50188389 -2.16636289], Spread: 3.255408561412792\n",
      "Iteration: 10, Max Value: -0.9194698341086199 at [ 2.50188389 -2.16636289], Spread: 2.39897806352209\n",
      "Iteration: 11, Max Value: -0.9194698341086199 at [ 2.50188389 -2.16636289], Spread: 1.5104149492916576\n",
      "Iteration: 12, Max Value: -0.9194698341086199 at [ 2.50188389 -2.16636289], Spread: 0.9195410729285853\n",
      "Iteration: 13, Max Value: -0.9189593107980909 at [ 2.50638065 -1.9009179 ], Spread: 0.6574484089140689\n",
      "Iteration: 14, Max Value: -0.9189593107980909 at [ 2.50293828 -2.03128884], Spread: 0.3231540640132936\n",
      "Iteration: 15, Max Value: -0.9189593107980909 at [ 2.50293828 -2.03128884], Spread: 0.17407756648671668\n",
      "Iteration: 16, Max Value: -0.9189593107980909 at [ 2.50293828 -2.03128884], Spread: 0.10277243776608402\n",
      "Iteration: 17, Max Value: -0.9189593107980909 at [ 2.50293828 -2.03128884], Spread: 0.05757352090393708\n",
      "Iteration: 18, Max Value: -0.9189593107980909 at [ 2.50293828 -2.03128884], Spread: 0.0273491879415676\n",
      "Iteration: 19, Max Value: -0.9189593107980909 at [ 2.50293828 -2.03128884], Spread: 0.01566252318569672\n",
      "Iteration: 20, Max Value: -0.9189593107980909 at [ 2.50293828 -2.03128884], Spread: 0.010328521047710093\n",
      "Iteration: 21, Max Value: -0.9189593107980909 at [ 2.50293828 -2.03128884], Spread: 0.00772607751833998\n",
      "Saving final results to file results/Results_Summary.txt\n"
     ]
    }
   ],
   "source": [
    "\n",
    "mymodel = GaussianModel()\n",
    "\n",
    "NumParticles = 100\n",
    "\n",
    "outdir = 'results/'\n",
    "\n",
    "myswarm = PySO.MWE_Swarm(mymodel,\n",
    "                     NumParticles,\n",
    "                     Output = outdir,\n",
    "                     Verbose = True,\n",
    "                     nPeriodicCheckpoint = 1, # Final two args mean evolution is saved at every iteration. Only necessary if running myswarm.Plot()\n",
    "                     SaveEvolution = True,    ############\n",
    "                     Tol = 1.0e-2)\n",
    "\n",
    "# Clear any existing history file\n",
    "history_file = os.path.join(outdir, \"SwarmEvolutionHistory.dat\")\n",
    "if os.path.isfile(history_file): os.system('rm {}'.format(history_file))\n",
    "\n",
    "myswarm.Run()\n",
    "\n",
    "myswarm.PlotSwarmEvolution()\n"
   ]
  },
  {
   "cell_type": "code",
   "execution_count": null,
   "id": "8a6ac111",
   "metadata": {},
   "outputs": [],
   "source": []
  },
  {
   "cell_type": "code",
   "execution_count": null,
   "id": "f2d8e72b",
   "metadata": {},
   "outputs": [],
   "source": []
  }
 ],
 "metadata": {
  "kernelspec": {
   "display_name": "Python 3 (ipykernel)",
   "language": "python",
   "name": "python3"
  },
  "language_info": {
   "codemirror_mode": {
    "name": "ipython",
    "version": 3
   },
   "file_extension": ".py",
   "mimetype": "text/x-python",
   "name": "python",
   "nbconvert_exporter": "python",
   "pygments_lexer": "ipython3",
   "version": "3.8.10"
  }
 },
 "nbformat": 4,
 "nbformat_minor": 5
}
