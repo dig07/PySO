{
 "cells": [
  {
   "cell_type": "code",
   "execution_count": 6,
   "id": "18df7a74",
   "metadata": {},
   "outputs": [],
   "source": [
    "import numpy as np \n",
    "import PySO\n",
    "import os"
   ]
  },
  {
   "cell_type": "code",
   "execution_count": 7,
   "id": "7ab27e2b",
   "metadata": {},
   "outputs": [],
   "source": [
    "#Simple gaussian to optimize/sample \n",
    "class GaussianModel(PySO.Model):\n",
    "    \"\"\"\n",
    "    A simple 2D Gaussian\n",
    "    \"\"\"\n",
    "    \n",
    "    names    = ['x', 'y'] \n",
    "    bounds   = [[-10,10], [-10,10]]\n",
    "    periodic = [0, 0]\n",
    "\n",
    "    def log_likelihood(self, param):\n",
    "        return -0.5 * ((param['x']-2.5)**2 + (param['y']+1.9)**2) - 0.5 * np.log(2*np.pi)\n"
   ]
  },
  {
   "cell_type": "code",
   "execution_count": 8,
   "id": "b3835bb5",
   "metadata": {},
   "outputs": [
    {
     "name": "stdout",
     "output_type": "stream",
     "text": [
      "Iteration: 1, Max Value: -1.1988737233392905 at [ 1.16680389 -1.06856569], Spread: 94.1031683868606\n",
      "Iteration: 2, Max Value: -1.1750648177606011 at [ 2.12222088 -2.50789432], Spread: 69.87376972299076\n",
      "Iteration: 3, Max Value: -0.9498635513491356 at [ 2.32193219 -2.07361421], Spread: 42.98202853261477\n",
      "Iteration: 4, Max Value: -0.9498635513491356 at [ 2.57561833 -2.46492774], Spread: 23.728881637412133\n",
      "Iteration: 5, Max Value: -0.9433285021779427 at [ 2.71311772 -1.84202781], Spread: 9.696644667134986\n",
      "Iteration: 6, Max Value: -0.9339194011112555 at [ 2.5183947  -1.72788559], Spread: 4.490090053639845\n",
      "Iteration: 7, Max Value: -0.9227180607584132 at [ 2.58694211 -1.90035302], Spread: 1.9594523495669258\n",
      "Iteration: 8, Max Value: -0.9227180607584132 at [ 2.53006263 -2.37219325], Spread: 1.1997698386268323\n",
      "Iteration: 9, Max Value: -0.9227180607584132 at [ 2.53006263 -2.37219325], Spread: 0.7668537476029798\n",
      "Iteration: 10, Max Value: -0.9227180607584132 at [ 2.53006263 -2.37219325], Spread: 0.6194361226851547\n",
      "Iteration: 11, Max Value: -0.9189539532178486 at [ 2.49527727 -1.90292163], Spread: 0.5130266663569782\n",
      "Iteration: 12, Max Value: -0.9189539532178486 at [ 2.52332905 -1.97178759], Spread: 0.31277474396670146\n",
      "Iteration: 13, Max Value: -0.9189539532178486 at [ 2.52332905 -1.97178759], Spread: 0.20586124960293362\n",
      "Iteration: 14, Max Value: -0.9189539532178486 at [ 2.52332905 -1.97178759], Spread: 0.1326322569975149\n",
      "Iteration: 15, Max Value: -0.9189539532178486 at [ 2.52332905 -1.97178759], Spread: 0.08095787308062496\n",
      "Iteration: 16, Max Value: -0.9189539532178486 at [ 2.52332905 -1.97178759], Spread: 0.05706553394211189\n",
      "Iteration: 17, Max Value: -0.9189539532178486 at [ 2.52332905 -1.97178759], Spread: 0.04470997090204798\n",
      "Iteration: 18, Max Value: -0.9189539532178486 at [ 2.52332905 -1.97178759], Spread: 0.03682790904403477\n",
      "Iteration: 19, Max Value: -0.9189539532178486 at [ 2.52332905 -1.97178759], Spread: 0.024377253133837762\n",
      "Iteration: 20, Max Value: -0.9189472063159336 at [ 2.50354831 -1.89781924], Spread: 0.016624487696014212\n",
      "Iteration: 21, Max Value: -0.9189472063159336 at [ 2.5059938 -1.9081359], Spread: 0.0093178646332579\n",
      "Saving final results to file results/Results_Summary.txt\n"
     ]
    }
   ],
   "source": [
    "\n",
    "mymodel = GaussianModel()\n",
    "\n",
    "NumParticles = 100\n",
    "\n",
    "outdir = 'results/'\n",
    "\n",
    "myswarm = PySO.MWE_Swarm(mymodel,\n",
    "                     NumParticles,\n",
    "                     Output = outdir,\n",
    "                     Verbose = True,\n",
    "                     nPeriodicCheckpoint = 1, # Final two args mean evolution is saved at every iteration. Only necessary if running myswarm.Plot()\n",
    "                     SaveEvolution = True,    ############\n",
    "                     Tol = 1.0e-2)\n",
    "\n",
    "# Clear any existing history file\n",
    "history_file = os.path.join(outdir, \"SwarmEvolutionHistory.dat\")\n",
    "if os.path.isfile(history_file): os.system('rm {}'.format(history_file))\n",
    "\n",
    "myswarm.Run()\n",
    "\n",
    "myswarm.PlotSwarmEvolution()\n"
   ]
  },
  {
   "cell_type": "code",
   "execution_count": null,
   "id": "8a6ac111",
   "metadata": {},
   "outputs": [],
   "source": []
  },
  {
   "cell_type": "code",
   "execution_count": null,
   "id": "f2d8e72b",
   "metadata": {},
   "outputs": [],
   "source": []
  }
 ],
 "metadata": {
  "kernelspec": {
   "display_name": "Python 3 (ipykernel)",
   "language": "python",
   "name": "python3"
  },
  "language_info": {
   "codemirror_mode": {
    "name": "ipython",
    "version": 3
   },
   "file_extension": ".py",
   "mimetype": "text/x-python",
   "name": "python",
   "nbconvert_exporter": "python",
   "pygments_lexer": "ipython3",
   "version": "3.8.10"
  }
 },
 "nbformat": 4,
 "nbformat_minor": 5
}
