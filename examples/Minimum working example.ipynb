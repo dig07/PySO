{
 "cells": [
  {
   "cell_type": "code",
   "execution_count": 1,
   "id": "18df7a74",
   "metadata": {},
   "outputs": [],
   "source": [
    "import numpy as np \n",
    "import PySO\n",
    "import os"
   ]
  },
  {
   "cell_type": "code",
   "execution_count": 2,
   "id": "7ab27e2b",
   "metadata": {},
   "outputs": [],
   "source": [
    "#Simple gaussian to optimize/sample \n",
    "class GaussianModel(PySO.Model):\n",
    "    \"\"\"\n",
    "    A simple 2D Gaussian\n",
    "    \"\"\"\n",
    "    \n",
    "    names    = ['x', 'y'] \n",
    "    bounds   = [[-10,10], [-10,10]]\n",
    "    periodic = [0, 0]\n",
    "\n",
    "    def log_likelihood(self, param):\n",
    "        return -0.5 * ((param['x']-2.5)**2 + (param['y']+1.9)**2) - 0.5 * np.log(2*np.pi)\n"
   ]
  },
  {
   "cell_type": "code",
   "execution_count": 3,
   "id": "b3835bb5",
   "metadata": {},
   "outputs": [
    {
     "name": "stdout",
     "output_type": "stream",
     "text": [
      "Iteration: 1, Max Value: -1.1274334236430907 at [ 2.26693737 -1.29777779], Spread: 117.30912228340058\n",
      "Iteration: 2, Max Value: -1.1274334236430907 at [ 2.26693737 -1.29777779], Spread: 78.52645117974413\n",
      "Iteration: 3, Max Value: -0.9733022283983019 at [ 2.20616964 -2.04963658], Spread: 56.88859030329452\n",
      "Iteration: 4, Max Value: -0.9254129638735847 at [ 2.60204111 -1.84963658], Spread: 43.998179994888986\n",
      "Iteration: 5, Max Value: -0.9254129638735847 at [ 2.60204111 -1.84963658], Spread: 29.79661084392107\n",
      "Iteration: 6, Max Value: -0.9254129638735847 at [ 2.60204111 -1.84963658], Spread: 19.029688213990347\n",
      "Iteration: 7, Max Value: -0.9254129638735847 at [ 2.60204111 -1.84963658], Spread: 10.37178781562518\n",
      "Iteration: 8, Max Value: -0.9254129638735847 at [ 2.60204111 -1.84963658], Spread: 3.9415137598622874\n",
      "Iteration: 9, Max Value: -0.9245605971168727 at [ 2.60187657 -1.87058413], Spread: 2.3718439010822445\n",
      "Iteration: 10, Max Value: -0.9226110409176548 at [ 2.44322389 -1.83580118], Spread: 2.047568039767974\n",
      "Iteration: 11, Max Value: -0.9195702803190245 at [ 2.46709341 -1.88655936], Spread: 2.030817887844289\n",
      "Iteration: 12, Max Value: -0.9195702803190245 at [ 2.46709341 -1.88655936], Spread: 1.634839069993009\n",
      "Iteration: 13, Max Value: -0.9195702803190245 at [ 2.46709341 -1.88655936], Spread: 1.096366689721839\n",
      "Iteration: 14, Max Value: -0.9195702803190245 at [ 2.46709341 -1.88655936], Spread: 0.9304324463291034\n",
      "Iteration: 15, Max Value: -0.9195702803190245 at [ 2.46709341 -1.88655936], Spread: 1.3425339722841598\n",
      "Iteration: 16, Max Value: -0.9195702803190245 at [ 2.46709341 -1.88655936], Spread: 0.9539897357884888\n",
      "Iteration: 17, Max Value: -0.9195702803190245 at [ 2.46709341 -1.88655936], Spread: 0.9393914466033497\n",
      "Iteration: 18, Max Value: -0.9195702803190245 at [ 2.46709341 -1.88655936], Spread: 0.7938760411165104\n",
      "Iteration: 19, Max Value: -0.9195702803190245 at [ 2.46709341 -1.88655936], Spread: 1.0423070962306098\n",
      "Iteration: 20, Max Value: -0.918943059022093 at [ 2.4970119  -1.90035059], Spread: 0.8065501977504322\n",
      "Iteration: 21, Max Value: -0.918943059022093 at [ 2.4970119  -1.90035059], Spread: 0.9315202799640421\n",
      "Iteration: 22, Max Value: -0.918943059022093 at [ 2.4970119  -1.90035059], Spread: 1.1092466578157287\n",
      "Iteration: 23, Max Value: -0.918943059022093 at [ 2.4970119  -1.90035059], Spread: 0.8235210969260054\n",
      "Iteration: 24, Max Value: -0.918943059022093 at [ 2.4970119  -1.90035059], Spread: 0.8120327620679623\n",
      "Iteration: 25, Max Value: -0.918943059022093 at [ 2.4970119  -1.90035059], Spread: 0.8539485315336847\n",
      "Iteration: 26, Max Value: -0.918943059022093 at [ 2.4970119  -1.90035059], Spread: 0.5574067220596696\n",
      "Iteration: 27, Max Value: -0.918943059022093 at [ 2.4970119  -1.90035059], Spread: 0.8969724511493411\n",
      "Iteration: 28, Max Value: -0.918943059022093 at [ 2.4970119  -1.90035059], Spread: 0.5927793473490528\n",
      "Iteration: 29, Max Value: -0.918943059022093 at [ 2.4970119  -1.90035059], Spread: 0.6411713416579365\n",
      "Iteration: 30, Max Value: -0.918943059022093 at [ 2.4970119  -1.90035059], Spread: 0.9996725686377212\n",
      "Iteration: 31, Max Value: -0.918943059022093 at [ 2.4970119  -1.90035059], Spread: 0.6387897718046512\n",
      "Iteration: 32, Max Value: -0.918943059022093 at [ 2.4970119  -1.90035059], Spread: 0.8237699337168058\n",
      "Iteration: 33, Max Value: -0.918943059022093 at [ 2.4970119  -1.90035059], Spread: 0.8670857717871215\n",
      "Iteration: 34, Max Value: -0.918943059022093 at [ 2.4970119  -1.90035059], Spread: 0.8252156554912314\n",
      "Iteration: 35, Max Value: -0.918943059022093 at [ 2.4970119  -1.90035059], Spread: 0.7004290726297187\n",
      "Iteration: 36, Max Value: -0.918943059022093 at [ 2.4970119  -1.90035059], Spread: 0.6351079479859908\n",
      "Iteration: 37, Max Value: -0.918943059022093 at [ 2.4970119  -1.90035059], Spread: 0.8643599404779732\n",
      "Iteration: 38, Max Value: -0.918943059022093 at [ 2.4970119  -1.90035059], Spread: 0.7570628172325342\n",
      "Iteration: 39, Max Value: -0.918943059022093 at [ 2.4970119  -1.90035059], Spread: 0.6201662666567319\n",
      "Iteration: 40, Max Value: -0.918943059022093 at [ 2.4970119  -1.90035059], Spread: 0.6511104973467041\n",
      "Iteration: 41, Max Value: -0.918943059022093 at [ 2.4970119  -1.90035059], Spread: 0.6933303544505964\n",
      "Iteration: 42, Max Value: -0.918943059022093 at [ 2.4970119  -1.90035059], Spread: 0.7582038947583957\n",
      "Iteration: 43, Max Value: -0.918943059022093 at [ 2.4970119  -1.90035059], Spread: 0.8355774194130625\n",
      "Iteration: 44, Max Value: -0.918943059022093 at [ 2.4970119  -1.90035059], Spread: 1.0054561892250504\n",
      "Iteration: 45, Max Value: -0.918943059022093 at [ 2.4970119  -1.90035059], Spread: 1.1185620688801872\n",
      "Iteration: 46, Max Value: -0.918943059022093 at [ 2.4970119  -1.90035059], Spread: 0.7521299010630759\n",
      "Iteration: 47, Max Value: -0.918943059022093 at [ 2.4970119  -1.90035059], Spread: 0.7529662575830267\n",
      "Iteration: 48, Max Value: -0.918943059022093 at [ 2.4970119  -1.90035059], Spread: 0.9766762615566137\n",
      "Iteration: 49, Max Value: -0.918943059022093 at [ 2.4970119  -1.90035059], Spread: 0.7232680761054541\n",
      "Iteration: 50, Max Value: -0.918943059022093 at [ 2.4970119  -1.90035059], Spread: 0.6845524916802066\n",
      "Iteration: 51, Max Value: -0.918943059022093 at [ 2.4970119  -1.90035059], Spread: 0.7569735759397899\n",
      "Iteration: 52, Max Value: -0.918943059022093 at [ 2.4970119  -1.90035059], Spread: 0.7506867768673449\n",
      "Iteration: 53, Max Value: -0.918943059022093 at [ 2.4970119  -1.90035059], Spread: 1.1101929893921167\n",
      "Saving final results to file MWE_swarm/Results_Summary.txt\n"
     ]
    },
    {
     "data": {
      "text/plain": [
       "<Figure size 640x480 with 0 Axes>"
      ]
     },
     "metadata": {},
     "output_type": "display_data"
    },
    {
     "data": {
      "text/plain": [
       "<Figure size 640x480 with 0 Axes>"
      ]
     },
     "metadata": {},
     "output_type": "display_data"
    },
    {
     "data": {
      "text/plain": [
       "<Figure size 640x480 with 0 Axes>"
      ]
     },
     "metadata": {},
     "output_type": "display_data"
    },
    {
     "data": {
      "text/plain": [
       "<Figure size 640x480 with 0 Axes>"
      ]
     },
     "metadata": {},
     "output_type": "display_data"
    }
   ],
   "source": [
    "\n",
    "mymodel = GaussianModel()\n",
    "\n",
    "NumParticles = 100\n",
    "\n",
    "outdir = 'MWE_swarm/'\n",
    "\n",
    "myswarm = PySO.Swarm(mymodel,\n",
    "                     NumParticles,\n",
    "                     Output = outdir,\n",
    "                     Verbose = True,\n",
    "                     Nperiodiccheckpoint = 1, # Final two args mean evolution is saved at every iteration. Only necessary if running myswarm.Plot()\n",
    "                     Saveevolution = True,    ############\n",
    "                     Maxiter=200,\n",
    "                     Tol = 0.01,\n",
    "                     Automatic_convergence_testing = True,\n",
    "                     Convergence_testing_num_iterations= 50)\n",
    "\n",
    "# Clear any existing history file\n",
    "history_file = os.path.join(outdir, \"SwarmEvolutionHistory.dat\")\n",
    "if os.path.isfile(history_file): os.system('rm {}'.format(history_file))\n",
    "\n",
    "myswarm.Run()\n",
    "\n",
    "myswarm.PlotSwarmEvolution()\n"
   ]
  },
  {
   "cell_type": "code",
   "execution_count": null,
   "id": "8a6ac111",
   "metadata": {},
   "outputs": [],
   "source": []
  },
  {
   "cell_type": "code",
   "execution_count": null,
   "id": "f2d8e72b",
   "metadata": {},
   "outputs": [],
   "source": []
  },
  {
   "cell_type": "code",
   "execution_count": null,
   "id": "bfd4386b-64bc-41df-84c5-0d2dbc999bb9",
   "metadata": {},
   "outputs": [],
   "source": []
  }
 ],
 "metadata": {
  "kernelspec": {
   "display_name": "Python 3 (ipykernel)",
   "language": "python",
   "name": "python3"
  },
  "language_info": {
   "codemirror_mode": {
    "name": "ipython",
    "version": 3
   },
   "file_extension": ".py",
   "mimetype": "text/x-python",
   "name": "python",
   "nbconvert_exporter": "python",
   "pygments_lexer": "ipython3",
   "version": "3.8.10"
  }
 },
 "nbformat": 4,
 "nbformat_minor": 5
}
