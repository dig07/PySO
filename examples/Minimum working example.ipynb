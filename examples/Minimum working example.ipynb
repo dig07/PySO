{
 "cells": [
  {
   "cell_type": "code",
   "execution_count": 1,
   "id": "18df7a74",
   "metadata": {
    "ExecuteTime": {
     "end_time": "2024-02-27T12:43:07.957390676Z",
     "start_time": "2024-02-27T12:43:05.928593829Z"
    }
   },
   "outputs": [
    {
     "name": "stdout",
     "output_type": "stream",
     "text": [
      "Defaulting to torch.multiprocessing\n",
      "Defaulting to torch.multiprocessing\n"
     ]
    }
   ],
   "source": [
    "import numpy as np \n",
    "import PySO\n",
    "import os\n",
    "\n",
    "from Models import GaussianModel"
   ]
  },
  {
   "cell_type": "code",
   "execution_count": 2,
   "id": "7ab27e2b",
   "metadata": {
    "ExecuteTime": {
     "end_time": "2024-02-27T12:43:07.997493274Z",
     "start_time": "2024-02-27T12:43:07.994680137Z"
    }
   },
   "outputs": [],
   "source": [
    "# #Simple gaussian to optimize/sample (The import is because of a bodge due to how jupyter+multiprocessing works)\n",
    "class GaussianModel_duplicate(PySO.Model):\n",
    "    \"\"\"\n",
    "    A simple 2D Gaussian\n",
    "    \"\"\"\n",
    "    \n",
    "    names    = ['x', 'y'] \n",
    "    bounds   = [[-10,10], [-10,10]]\n",
    "\n",
    "    def log_likelihood(self, param):\n",
    "        return -0.5 * ((param['x']-2.5)**2 + (param['y']+1.9)**2) - 0.5 * np.log(2*np.pi)\n"
   ]
  },
  {
   "cell_type": "code",
   "execution_count": 3,
   "id": "b3835bb5",
   "metadata": {
    "ExecuteTime": {
     "end_time": "2024-02-27T12:43:11.505649121Z",
     "start_time": "2024-02-27T12:43:07.995715560Z"
    }
   },
   "outputs": [
    {
     "name": "stdout",
     "output_type": "stream",
     "text": [
      "Iteration: 1, Max Value: -1.0574136089339405 at [ 2.72015972 -2.37799566], Spread: 126.42660230795329\n",
      "Iteration: 2, Max Value: -0.991602090576435 at [ 2.72763948 -1.59421023], Spread: 98.04796616037268\n",
      "Iteration: 3, Max Value: -0.991602090576435 at [ 2.72763948 -1.59421023], Spread: 68.63867020759605\n",
      "Iteration: 4, Max Value: -0.9255024804312079 at [ 2.49886438 -1.7854286 ], Spread: 55.615093828979624\n",
      "Iteration: 5, Max Value: -0.9255024804312079 at [ 2.49886438 -1.7854286 ], Spread: 41.95579312411011\n",
      "Iteration: 6, Max Value: -0.9255024804312079 at [ 2.49886438 -1.7854286 ], Spread: 25.771144746575608\n",
      "Iteration: 7, Max Value: -0.9255024804312079 at [ 2.49886438 -1.7854286 ], Spread: 10.657596409064505\n",
      "Iteration: 8, Max Value: -0.9255024804312079 at [ 2.49886438 -1.7854286 ], Spread: 5.390448455621399\n",
      "Iteration: 9, Max Value: -0.9210387743860566 at [ 2.56369751 -1.91196285], Spread: 3.066639533662002\n",
      "Iteration: 10, Max Value: -0.9210387743860566 at [ 2.56369751 -1.91196285], Spread: 2.01368195965568\n",
      "Iteration: 11, Max Value: -0.9205062455554014 at [ 2.54171103 -1.93735793], Spread: 1.351381318147526\n",
      "Iteration: 12, Max Value: -0.9205062455554014 at [ 2.54171103 -1.93735793], Spread: 1.3650913258653858\n",
      "Iteration: 13, Max Value: -0.919408330956207 at [ 2.52763948 -1.91325349], Spread: 1.1065843082388018\n",
      "Iteration: 14, Max Value: -0.919408330956207 at [ 2.52763948 -1.91325349], Spread: 0.7899680537230634\n",
      "Iteration: 15, Max Value: -0.919408330956207 at [ 2.52763948 -1.91325349], Spread: 1.0801375316471564\n",
      "Iteration: 16, Max Value: -0.919408330956207 at [ 2.52763948 -1.91325349], Spread: 0.8052795422469943\n",
      "Iteration: 17, Max Value: -0.919408330956207 at [ 2.52763948 -1.91325349], Spread: 0.9359653960738702\n",
      "Iteration: 18, Max Value: -0.919408330956207 at [ 2.52763948 -1.91325349], Spread: 0.8154086905527224\n",
      "Iteration: 19, Max Value: -0.919408330956207 at [ 2.52763948 -1.91325349], Spread: 0.7565663945263131\n",
      "Iteration: 20, Max Value: -0.919408330956207 at [ 2.52763948 -1.91325349], Spread: 0.7344547760514357\n",
      "Iteration: 21, Max Value: -0.919408330956207 at [ 2.52763948 -1.91325349], Spread: 0.9980913503343112\n",
      "Iteration: 22, Max Value: -0.919408330956207 at [ 2.52763948 -1.91325349], Spread: 0.7811894507735553\n",
      "Iteration: 23, Max Value: -0.919408330956207 at [ 2.52763948 -1.91325349], Spread: 0.7711400155416169\n",
      "Iteration: 24, Max Value: -0.919408330956207 at [ 2.52763948 -1.91325349], Spread: 0.8656466552680284\n",
      "Iteration: 25, Max Value: -0.919408330956207 at [ 2.52763948 -1.91325349], Spread: 0.7335202971899901\n",
      "Iteration: 26, Max Value: -0.919408330956207 at [ 2.52763948 -1.91325349], Spread: 0.6632249178762071\n",
      "Iteration: 27, Max Value: -0.919408330956207 at [ 2.52763948 -1.91325349], Spread: 0.6422637620152136\n",
      "Iteration: 28, Max Value: -0.919408330956207 at [ 2.52763948 -1.91325349], Spread: 0.7916739951216422\n",
      "Iteration: 29, Max Value: -0.919408330956207 at [ 2.52763948 -1.91325349], Spread: 0.738678937185546\n",
      "Iteration: 30, Max Value: -0.919408330956207 at [ 2.52763948 -1.91325349], Spread: 0.7302390256428113\n",
      "Iteration: 31, Max Value: -0.919408330956207 at [ 2.52763948 -1.91325349], Spread: 1.0645457542328167\n",
      "Iteration: 32, Max Value: -0.9193854482434571 at [ 2.47734909 -1.91951324], Spread: 1.2383413894051003\n",
      "Iteration: 33, Max Value: -0.9193854482434571 at [ 2.47734909 -1.91951324], Spread: 0.8632772031062179\n",
      "Iteration: 34, Max Value: -0.9193854482434571 at [ 2.47734909 -1.91951324], Spread: 0.7038773699794234\n",
      "Iteration: 35, Max Value: -0.9193854482434571 at [ 2.47734909 -1.91951324], Spread: 1.0681661074283102\n",
      "Iteration: 36, Max Value: -0.9193854482434571 at [ 2.47734909 -1.91951324], Spread: 0.9905606791586016\n",
      "Iteration: 37, Max Value: -0.9193854482434571 at [ 2.47734909 -1.91951324], Spread: 0.9073203864389515\n",
      "Iteration: 38, Max Value: -0.9193854482434571 at [ 2.47734909 -1.91951324], Spread: 0.5605147770871223\n",
      "Iteration: 39, Max Value: -0.9193854482434571 at [ 2.47734909 -1.91951324], Spread: 0.7618318864409657\n",
      "Iteration: 40, Max Value: -0.9193854482434571 at [ 2.47734909 -1.91951324], Spread: 0.5194395538206191\n",
      "Iteration: 41, Max Value: -0.9193854482434571 at [ 2.47734909 -1.91951324], Spread: 0.7205751244576907\n",
      "Iteration: 42, Max Value: -0.9193854482434571 at [ 2.47734909 -1.91951324], Spread: 0.9156008148237398\n",
      "Iteration: 43, Max Value: -0.9193854482434571 at [ 2.47734909 -1.91951324], Spread: 0.8508469031876795\n",
      "Iteration: 44, Max Value: -0.9192818426202508 at [ 2.52224326 -1.88614879], Spread: 0.7611152097183594\n",
      "Iteration: 45, Max Value: -0.9192818426202508 at [ 2.52224326 -1.88614879], Spread: 0.8101622420341738\n",
      "Iteration: 46, Max Value: -0.9192818426202508 at [ 2.52224326 -1.88614879], Spread: 0.8143838457963282\n",
      "Iteration: 47, Max Value: -0.9192818426202508 at [ 2.52224326 -1.88614879], Spread: 0.7018425800194966\n",
      "Iteration: 48, Max Value: -0.9192818426202508 at [ 2.52224326 -1.88614879], Spread: 0.6182782167662605\n",
      "Iteration: 49, Max Value: -0.9192818426202508 at [ 2.52224326 -1.88614879], Spread: 0.6101653705862412\n",
      "Iteration: 50, Max Value: -0.9192818426202508 at [ 2.52224326 -1.88614879], Spread: 0.623461107604987\n",
      "Iteration: 51, Max Value: -0.9192818426202508 at [ 2.52224326 -1.88614879], Spread: 0.7688857818161746\n",
      "Iteration: 52, Max Value: -0.9192818426202508 at [ 2.52224326 -1.88614879], Spread: 0.7626631638689034\n",
      "Iteration: 53, Max Value: -0.9192818426202508 at [ 2.52224326 -1.88614879], Spread: 0.49602904558876715\n",
      "Saving final results to file MWE_swarm/Results_Summary.txt\n"
     ]
    }
   ],
   "source": [
    "\n",
    "mymodel = GaussianModel()\n",
    "\n",
    "NumParticles = 100\n",
    "\n",
    "outdir = 'MWE_swarm/'\n",
    "\n",
    "myswarm = PySO.Swarm(mymodel,\n",
    "                     NumParticles,\n",
    "                     Output = outdir,\n",
    "                     Periodic=[0,1],\n",
    "                     Verbose = True,\n",
    "                     Nperiodiccheckpoint = 1, #  evolution is saved at every iteration. Only necessary if running myswarm.Plot()\n",
    "                     Saveevolution = True,    ############\n",
    "                     Plotevolution = False, # Evolution is plotted in pair and function plots\n",
    "                     Maxiter=200,\n",
    "                     Tol = 0.01,\n",
    "                     Nthreads=5,\n",
    "                     Automatic_convergence_testing = True,\n",
    "                     Convergence_testing_num_iterations= 50)\n",
    "\n",
    "# Clear any existing history file\n",
    "history_file = os.path.join(outdir, \"SwarmEvolutionHistory.dat\")\n",
    "if os.path.isfile(history_file): os.system('rm {}'.format(history_file))\n",
    "\n",
    "import sys \n",
    "if __name__=='__main__':\n",
    "    myswarm.Run()\n",
    "\n",
    "# myswarm.PlotSwarmEvolution()\n"
   ]
  },
  {
   "cell_type": "code",
   "execution_count": null,
   "id": "02f68f81-689a-4b55-b1b4-cf0aab43698f",
   "metadata": {},
   "outputs": [],
   "source": []
  }
 ],
 "metadata": {
  "kernelspec": {
   "display_name": "Python 3 (ipykernel)",
   "language": "python",
   "name": "python3"
  },
  "language_info": {
   "codemirror_mode": {
    "name": "ipython",
    "version": 3
   },
   "file_extension": ".py",
   "mimetype": "text/x-python",
   "name": "python",
   "nbconvert_exporter": "python",
   "pygments_lexer": "ipython3",
   "version": "3.8.10"
  }
 },
 "nbformat": 4,
 "nbformat_minor": 5
}
