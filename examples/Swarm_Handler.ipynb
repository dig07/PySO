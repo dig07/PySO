{
 "cells": [
  {
   "cell_type": "code",
   "execution_count": 1,
   "id": "335b59e3-99ae-42e9-8f7a-04325ba1daf4",
   "metadata": {},
   "outputs": [],
   "source": [
    "import numpy as np \n",
    "import PySO\n",
    "import os"
   ]
  },
  {
   "cell_type": "code",
   "execution_count": 2,
   "id": "bc4615a5-6d3e-4580-9cc7-27f42e42da8f",
   "metadata": {},
   "outputs": [],
   "source": [
    "#Simple gaussian to optimize/sample \n",
    "class GaussianModel(PySO.Model):\n",
    "    \"\"\"\n",
    "    A simple 2D Gaussian\n",
    "    \"\"\"\n",
    "    \n",
    "    names    = ['x', 'y'] \n",
    "    bounds   = [[-10,10], [-10,10]]\n",
    "    periodic = [0, 0]\n",
    "\n",
    "    def log_likelihood(self, param):\n",
    "        return -0.5 * ((param['x']-2.5)**2 + (param['y']+1.9)**2) - 0.5 * np.log(2*np.pi)\n",
    "    "
   ]
  },
  {
   "cell_type": "code",
   "execution_count": 3,
   "id": "81e58f40-e159-4798-ad50-5f011273ee0e",
   "metadata": {},
   "outputs": [
    {
     "name": "stdout",
     "output_type": "stream",
     "text": [
      "Iteration: 10, Max Value: -0.9205973133921997 at [ 2.4569314  -1.93824469], from swarm 4\n",
      "Iteration: 20, Max Value: -0.9189759181659343 at [ 2.29681142 -2.10803759], from swarm 3\n",
      "Iteration: 30, Max Value: -0.9189759181659343 at [ 2.29681142 -2.10803759], from swarm 3\n",
      "Iteration: 40, Max Value: -0.9189759181659343 at [ 2.29681142 -2.10803759], from swarm 3\n",
      "Iteration: 50, Max Value: -0.9189759181659343 at [ 2.29681142 -2.10803759], from swarm 3\n",
      "Iteration: 60, Max Value: -0.9189759181659343 at [ 2.29681142 -2.10803759], from swarm 3\n",
      "Iteration: 70, Max Value: -0.9189759181659343 at [ 2.29681142 -2.10803759], from swarm 3\n",
      "Iteration: 80, Max Value: -0.9189759181659343 at [ 2.29681142 -2.10803759], from swarm 3\n",
      "Iteration: 90, Max Value: -0.9189759181659343 at [ 2.29681142 -2.10803759], from swarm 3\n"
     ]
    }
   ],
   "source": [
    "\n",
    "mymodel = GaussianModel()\n",
    "\n",
    "NumParticles = 10\n",
    "NumSwarms = 5\n",
    "outdir = 'swarm_results/'\n",
    "\n",
    "swarm_kwargs = {'Verbose':False, 'nPeriodicCheckpoint':1, 'Omega':0.6, 'PhiP':0.2, 'PhiG':0.2}\n",
    "\n",
    "Swarm_Handler = PySO.SwarmHandler(mymodel, \n",
    "                                  NumSwarms, \n",
    "                                  NumParticles, \n",
    "                                  Swarm_kwargs=swarm_kwargs, \n",
    "                                  Verbose=True, \n",
    "                                  SaveEvolution=True, \n",
    "                                  Output=outdir,\n",
    "                                  Maxiter=1e2)\n",
    "\n",
    "# Clear any existing history file\n",
    "history_file = os.path.join(outdir, \"EnsembleEvolutionHistory.dat\")\n",
    "if os.path.isfile(history_file): os.system('rm {}'.format(history_file))\n",
    "\n",
    "\n",
    "Swarm_Handler.Run()\n",
    "\n"
   ]
  },
  {
   "cell_type": "code",
   "execution_count": null,
   "id": "dbad88a9-80d2-49b4-90ee-2c0f08332967",
   "metadata": {},
   "outputs": [],
   "source": []
  },
  {
   "cell_type": "code",
   "execution_count": null,
   "id": "8beee670-afd0-4507-9dda-ba4fc57429b7",
   "metadata": {},
   "outputs": [],
   "source": []
  },
  {
   "cell_type": "code",
   "execution_count": null,
   "id": "22f2cc48-aeab-40f5-badf-5ccbb6e18020",
   "metadata": {},
   "outputs": [],
   "source": []
  }
 ],
 "metadata": {
  "kernelspec": {
   "display_name": "Python 3 (ipykernel)",
   "language": "python",
   "name": "python3"
  },
  "language_info": {
   "codemirror_mode": {
    "name": "ipython",
    "version": 3
   },
   "file_extension": ".py",
   "mimetype": "text/x-python",
   "name": "python",
   "nbconvert_exporter": "python",
   "pygments_lexer": "ipython3",
   "version": "3.8.10"
  }
 },
 "nbformat": 4,
 "nbformat_minor": 5
}
